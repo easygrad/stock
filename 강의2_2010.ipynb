{
 "cells": [
  {
   "cell_type": "markdown",
   "metadata": {},
   "source": [
    "# 파일은 없지만 코드만\n",
    "\n",
    "import pandas as pd\n",
    "\n",
    "# read_csv 함수로 데이터를 Dataframe 형태로 불러오기\n",
    "\n",
    "file_path = './data/chipotle.tsv' # . 은 현재 지정된 폴더를 의미, ..은 상위폴더를 의미, 마지막은 파일명\n",
    "chipo = pd.read_csv(file_path, sep = ='\\t') # 파일 불러오기 및 이름 지정, \\t 의미는?\n",
    "\n",
    "# head로 살펴보기\n",
    "\n",
    "chipo.head() # 괄호 안에 숫자 넣으면 그만큼 보여줌\n",
    "\n",
    "# 데이터 형태 확인하기\n",
    "\n",
    "print(chipo.shape) # 행, 열\n",
    "\n",
    "print(chipo.info()) # non-null 비어있지 않은 데이터, 데이터 타입 등등\n",
    "\n",
    "# 요약 분석\n",
    "\n",
    "print(chipo.describe()) # 평균 등등\n",
    "\n",
    "# 의미있는 정보만 분석\n",
    "\n",
    "chipo['order_id'] = chipo['order_id'].astype(str) # order_id는 의미가 없어서 문자열로 변환\n",
    "\n",
    "# 개별 정보 빼내기\n",
    "\n",
    "print(len(['order_id'].unique())) # order_id의 개수(중복 제거인듯)\n",
    "print(len(['item_name'].unique())) # item_name의 개수(중복 제거)\n",
    "\n",
    "chipo['item_name'].value_counts() # 각각 item_name의 개수\n",
    "chipo['item_name'].value_counts()[:10] # 각각 item_name의 개수 상위 10개만 보여줌\n",
    "len(chipo['item_name'].value_counts()) # item_name의 개수: 위의 print에서 값과 같음\n",
    "\n",
    "# 분석 사례 1\n",
    "\n",
    "item_count = chipo['item_name'].value_counts()[:10]\n",
    "for idx, (val, cnt) in enumerate(item_count.iteritems(), 1):\n",
    "    print(\"Top\", idx, \":\", val, cnt)\n",
    "    \n",
    "# 분석 사례 2 item당 주문 개수 출력\n",
    "\n",
    "order_count = chipo.groupby('item_name')['order_id'].count() # 그룹을 묶어서 연산하게 해주는 함수 groupby\n",
    "\n",
    "item_quantity = chipo.groupby('item_name')['order_id'].sum() # 그룹을 묶어서 연산하게 해주는 함수 groupby\n",
    "\n",
    "# 시각화\n",
    "\n",
    "%matplotlib inline\n",
    "import numpy as np\n",
    "import matplotlib.pyplot as plt\n",
    "\n",
    "item_name_list = item_quantity.index.tolist() # tolist는 보기 편하게 파이썬의 list 타입으로 변환, 쓰나 안쓰나 큰 차이 없\n",
    "x_pos = np.arange(len(item_name_list))\n",
    "order_cnt = item_qauntity.values.tolist()\n",
    "\n",
    "plt.bar(x_pos, order_cnt, align ='center')\n",
    "plt.ylabel('ordered_item_count')\n",
    "plt.title('Dist of all ordered item')\n",
    "\n",
    "plt.show()\n",
    "\n",
    "# 데이터 전처리\n",
    "\n",
    "chipo['item_pric e'] = chipo['item_price'].apply(lambda x: float(x[1:])) # apply 함수는 선택된 대상에 괄호 안의 명령어를 적용하겠다는 의미 , lambda 명령어는 선택된 시리즈를:뒤의 규칙을 적용하겠다는 의미\n",
    "chipo.describe()"
   ]
  },
  {
   "cell_type": "code",
   "execution_count": 9,
   "metadata": {},
   "outputs": [
    {
     "name": "stdout",
     "output_type": "stream",
     "text": [
      "12.0\n"
     ]
    }
   ],
   "source": [
    "x = 'd12'\n",
    "print(float(x[1:]))"
   ]
  },
  {
   "cell_type": "code",
   "execution_count": null,
   "metadata": {},
   "outputs": [],
   "source": []
  }
 ],
 "metadata": {
  "kernelspec": {
   "display_name": "Python 3",
   "language": "python",
   "name": "python3"
  },
  "language_info": {
   "codemirror_mode": {
    "name": "ipython",
    "version": 3
   },
   "file_extension": ".py",
   "mimetype": "text/x-python",
   "name": "python",
   "nbconvert_exporter": "python",
   "pygments_lexer": "ipython3",
   "version": "3.7.6"
  }
 },
 "nbformat": 4,
 "nbformat_minor": 4
}
