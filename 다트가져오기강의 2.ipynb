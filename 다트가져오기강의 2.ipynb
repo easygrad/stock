{
 "cells": [
  {
   "cell_type": "code",
   "execution_count": 5,
   "metadata": {},
   "outputs": [],
   "source": [
    "#다트에서 재무제표 불러오기 2 복습 및 연습, 응용\n",
    "\n",
    "import requests\n",
    "import pandas as pd\n",
    "from io import BytesIO\n",
    "\n",
    "\n",
    "url_2009 = 'http://dart.fss.or.kr/pdf/download/excel.do?rcp_no=20201116001248&dcm_no=7549051&lang=ko'\n",
    "url_2006 = 'http://dart.fss.or.kr/pdf/download/excel.do?rcp_no=20200814001766&dcm_no=7446167&lang=ko'\n",
    "\n",
    "user_agent = 'Mozilla/5.0 (Windows NT 10.0; Win64; x64) AppleWebKit/537.36 (KHTML, like Gecko) Chrome/87.0.4280.67 Safari/537.36 Edg/87.0.664.47'\n",
    "headers = {'user-agent': user_agent}\n",
    "\n",
    "for period, url in zip(['2009', '2006'], [url_2009, url_2006]):\n",
    "    sheets = ['연결 재무상태표', '연결 손익계산서', '연결 포괄손익계산서']\n",
    "    \n",
    "    for sheet in sheets:\n",
    "        resp = requests.get(url, headers = headers)\n",
    "        output = BytesIO(resp.content)\n",
    "        \n",
    "        table = pd.read_excel(output, sheet_name = sheet, skiprows = 5)\n",
    "        table.to_csv(period+sheet+'.csv', encoding = 'euc-kr')"
   ]
  },
  {
   "cell_type": "code",
   "execution_count": 11,
   "metadata": {},
   "outputs": [
    {
     "name": "stdout",
     "output_type": "stream",
     "text": [
      "1\n",
      "2\n",
      "2\n",
      "3\n"
     ]
    }
   ],
   "source": [
    "for i, j in [1,2], [2,3]:\n",
    "    print(i)\n",
    "    print(j)"
   ]
  },
  {
   "cell_type": "code",
   "execution_count": 1,
   "metadata": {},
   "outputs": [],
   "source": [
    "# ValueError: I/O operation on closed file. 에러가 발생한 이유: for문을 잘못 사용함. for문 블락? 안에서 파일 열고 닫고 해야 함."
   ]
  },
  {
   "cell_type": "code",
   "execution_count": null,
   "metadata": {},
   "outputs": [],
   "source": [
    "# 여기서부터는 여러 개의 데이터를 가져와서 저장하는 방법\n",
    "\n",
    "rcp_no = ''\n",
    "dcm_no = ''\n",
    "url = 'http://dart.fss.or.kr/pdf/download/excel.do?rcp_no='+rcp_no+'&dcm_no='+dcm_no+'&lang=ko'\n"
   ]
  },
  {
   "cell_type": "code",
   "execution_count": 3,
   "metadata": {},
   "outputs": [],
   "source": [
    "def download_excel(rcp_no, dcm_no, period, company):\n",
    "    url = 'http://dart.fss.or.kr/pdf/download/excel.do?rcp_no='+rcp_no+'&dcm_no='+dcm_no+'&lang=ko'\n",
    "    user_agent = 'Mozilla/5.0 (Windows NT 10.0; Win64; x64) AppleWebKit/537.36 (KHTML, like Gecko) Chrome/87.0.4280.67 Safari/537.36 Edg/87.0.664.47'\n",
    "    headers = {'user-agent' : user_agent}\n",
    "    \n",
    "    sheets = ['연결 재무상태표', '연결 손익계산서', '연결 포괄손익계산서']\n",
    "    \n",
    "    for sheet in sheets:\n",
    "        resp = requests.get(url, headers = headers)\n",
    "        output = BytesIO(resp.content)\n",
    "        \n",
    "        table = pd.read_excel(ouput, sheet_name = sheet, skiprows = 5)\n",
    "        table.to_csv(period+company+sheet+\".csv\", encoding = 'euc-kr')"
   ]
  },
  {
   "cell_type": "code",
   "execution_count": 17,
   "metadata": {},
   "outputs": [],
   "source": [
    "periods = ['1909', '1906', '1903']\n",
    "rcp_nos = ['20191114001273', '20190814002218', '20190515001605']\n",
    "dcm_nos = ['6958001', '6846651', '6738798']"
   ]
  },
  {
   "cell_type": "code",
   "execution_count": 36,
   "metadata": {},
   "outputs": [
    {
     "name": "stdout",
     "output_type": "stream",
     "text": [
      "3\n",
      "3\n",
      "3\n"
     ]
    },
    {
     "data": {
      "text/plain": [
       "3"
      ]
     },
     "execution_count": 36,
     "metadata": {},
     "output_type": "execute_result"
    }
   ],
   "source": [
    "print(len(periods))\n",
    "print(len(rcp_nos))\n",
    "print(len(dcm_nos))\n",
    "min(len(periods), len(rcp_nos),len(dcm_nos))"
   ]
  },
  {
   "cell_type": "code",
   "execution_count": 52,
   "metadata": {},
   "outputs": [],
   "source": [
    "def download_excel(rcp_no, dcm_no, period, company):\n",
    "    \n",
    "    user_agent = 'Mozilla/5.0 (Windows NT 10.0; Win64; x64) AppleWebKit/537.36 (KHTML, like Gecko) Chrome/87.0.4280.67 Safari/537.36 Edg/87.0.664.47'\n",
    "    headers = {'user-agent' : user_agent}\n",
    "    \n",
    "    for i in range(min(len(periods), len(rcp_nos),len(dcm_nos))):\n",
    "        sheets = ['연결 재무상태표', '연결 손익계산서', '연결 포괄손익계산서']\n",
    "        url = 'http://dart.fss.or.kr/pdf/download/excel.do?rcp_no='+rcp_nos[i]+'&dcm_no='+dcm_nos[i]+'&lang=ko'\n",
    "        \n",
    "        for sheet in sheets:\n",
    "            resp = requests.get(url, headers = headers)\n",
    "            output = BytesIO(resp.content)\n",
    "            \n",
    "            table = pd.read_excel(output, sheet_name = sheet, skiprows = 5)\n",
    "            table.to_csv(periods[i]+company+\"_\"+sheet+\".csv\", encoding = 'euc-kr')\n"
   ]
  },
  {
   "cell_type": "code",
   "execution_count": 53,
   "metadata": {},
   "outputs": [],
   "source": [
    "\n",
    "import requests\n",
    "import pandas as pd\n",
    "from io import BytesIO\n",
    "\n",
    "download_excel(rcp_nos, dcm_nos, periods, '삼성전자')"
   ]
  },
  {
   "cell_type": "code",
   "execution_count": 35,
   "metadata": {},
   "outputs": [
    {
     "data": {
      "text/plain": [
       "1"
      ]
     },
     "execution_count": 35,
     "metadata": {},
     "output_type": "execute_result"
    }
   ],
   "source": [
    "min(1,2,3)"
   ]
  },
  {
   "cell_type": "code",
   "execution_count": 1,
   "metadata": {},
   "outputs": [],
   "source": [
    "# 이제 API 이용해서 rcp_no, dcm_no 알아내기: 다트에 오픈 api 탭이 있음\n",
    "# 기본 URL 이 있고 여기에 추가해서 내가 원하는 내역을 덧붙여줌\n",
    "\n",
    "# https://opendart.fss.or.kr/api/list.xml?crtfc_key=7d523a1a3ce98201eb9eeb5c04c206363c176810&corp_code=00126380&bgn_de=20190101&last_reprt_at=N&pblntf_detail_ty=A001&pblntf_detail_ty=A002&pblntf_detail_ty=A003\n",
    "# 이렇게 치면 rcp_no가 나옴\n",
    "# http://dart.fss.or.kr/dsaf001/main.do?rcpNo=_______________________ 여기에 입력하면 바로 보고서로 들어갈 수 있음\n",
    "# 다트 오픈API에서 자세한 내용 찾을 수 있음\n",
    "# 그럼 문제는 <rcept_no>20201116001248</rcept_no> 이걸 파이썬으로 찾아줘야 함"
   ]
  },
  {
   "cell_type": "code",
   "execution_count": 1,
   "metadata": {},
   "outputs": [],
   "source": [
    "# 맛보기\n",
    "\n",
    "import re"
   ]
  },
  {
   "cell_type": "code",
   "execution_count": 2,
   "metadata": {},
   "outputs": [
    {
     "data": {
      "text/plain": [
       "'Python Python Python'"
      ]
     },
     "execution_count": 2,
     "metadata": {},
     "output_type": "execute_result"
    }
   ],
   "source": [
    "re.sub('python', 'Python', 'python python python') # 바꾸기"
   ]
  },
  {
   "cell_type": "code",
   "execution_count": 3,
   "metadata": {},
   "outputs": [],
   "source": [
    "s = '필요없는것들start추출해야하는것들end또필요없는것들start또한번추출해야하는것들end필요없는것들'"
   ]
  },
  {
   "cell_type": "code",
   "execution_count": 4,
   "metadata": {},
   "outputs": [
    {
     "data": {
      "text/plain": [
       "['추출해야하는것들', '또한번추출해야하는것들']"
      ]
     },
     "execution_count": 4,
     "metadata": {},
     "output_type": "execute_result"
    }
   ],
   "source": [
    "re.findall(r'start(.*?)end', s)"
   ]
  },
  {
   "cell_type": "code",
   "execution_count": 10,
   "metadata": {},
   "outputs": [],
   "source": [
    "# 이제 위에 적용해보면\n",
    "\n",
    "webpage = '<rcept_no>20201116001248</rcept_no>'"
   ]
  },
  {
   "cell_type": "code",
   "execution_count": 12,
   "metadata": {},
   "outputs": [
    {
     "data": {
      "text/plain": [
       "['20201116001248']"
      ]
     },
     "execution_count": 12,
     "metadata": {},
     "output_type": "execute_result"
    }
   ],
   "source": [
    "re.findall(r'<rcept_no>(.*?)</rcept_no>', webpage)"
   ]
  },
  {
   "cell_type": "code",
   "execution_count": 13,
   "metadata": {},
   "outputs": [],
   "source": [
    "# 실전\n",
    "\n",
    "api_key = '7d523a1a3ce98201eb9eeb5c04c206363c176810'\n",
    "corp_code = '00126380'\n",
    "\n",
    "url = 'https://opendart.fss.or.kr/api/list.xml?crtfc_key={}&corp_code={}&bgn_de=19990101&last_reprt_at=N&pblntf_detail_ty=A001&pblntf_detail_ty=A002&pblntf_detail_ty=A003'.format(api_key, corp_code)\n"
   ]
  },
  {
   "cell_type": "code",
   "execution_count": 14,
   "metadata": {},
   "outputs": [],
   "source": [
    "import requests"
   ]
  },
  {
   "cell_type": "code",
   "execution_count": 17,
   "metadata": {},
   "outputs": [
    {
     "data": {
      "text/plain": [
       "b'<?xml version=\"1.0\" encoding=\"UTF-8\" standalone=\"yes\"?><result><status>000</status><message>\\xec\\xa0\\x95\\xec\\x83\\x81</message><page_no>1</page_no><page_count>10</page_count><total_count>91</total_count><total_page>10</total_page><list><corp_code>00126380</corp_code><corp_name>\\xec\\x82\\xbc\\xec\\x84\\xb1\\xec\\xa0\\x84\\xec\\x9e\\x90</corp_name><stock_code>005930</stock_code><corp_cls>Y</corp_cls><report_nm>\\xeb\\xb6\\x84\\xea\\xb8\\xb0\\xeb\\xb3\\xb4\\xea\\xb3\\xa0\\xec\\x84\\x9c (2020.09)</report_nm><rcept_no>20201116001248</rcept_no><flr_nm>\\xec\\x82\\xbc\\xec\\x84\\xb1\\xec\\xa0\\x84\\xec\\x9e\\x90</flr_nm><rcept_dt>20201116</rcept_dt><rm></rm></list><list><corp_code>00126380</corp_code><corp_name>\\xec\\x82\\xbc\\xec\\x84\\xb1\\xec\\xa0\\x84\\xec\\x9e\\x90</corp_name><stock_code>005930</stock_code><corp_cls>Y</corp_cls><report_nm>\\xeb\\xb0\\x98\\xea\\xb8\\xb0\\xeb\\xb3\\xb4\\xea\\xb3\\xa0\\xec\\x84\\x9c (2020.06)</report_nm><rcept_no>20200814001766</rcept_no><flr_nm>\\xec\\x82\\xbc\\xec\\x84\\xb1\\xec\\xa0\\x84\\xec\\x9e\\x90</flr_nm><rcept_dt>20200814</rcept_dt><rm></rm></list><list><corp_code>00126380</corp_code><corp_name>\\xec\\x82\\xbc\\xec\\x84\\xb1\\xec\\xa0\\x84\\xec\\x9e\\x90</corp_name><stock_code>005930</stock_code><corp_cls>Y</corp_cls><report_nm>\\xeb\\xb6\\x84\\xea\\xb8\\xb0\\xeb\\xb3\\xb4\\xea\\xb3\\xa0\\xec\\x84\\x9c (2020.03)</report_nm><rcept_no>20200515001451</rcept_no><flr_nm>\\xec\\x82\\xbc\\xec\\x84\\xb1\\xec\\xa0\\x84\\xec\\x9e\\x90</flr_nm><rcept_dt>20200515</rcept_dt><rm></rm></list><list><corp_code>00126380</corp_code><corp_name>\\xec\\x82\\xbc\\xec\\x84\\xb1\\xec\\xa0\\x84\\xec\\x9e\\x90</corp_name><stock_code>005930</stock_code><corp_cls>Y</corp_cls><report_nm>\\xec\\x82\\xac\\xec\\x97\\x85\\xeb\\xb3\\xb4\\xea\\xb3\\xa0\\xec\\x84\\x9c (2019.12)</report_nm><rcept_no>20200330003851</rcept_no><flr_nm>\\xec\\x82\\xbc\\xec\\x84\\xb1\\xec\\xa0\\x84\\xec\\x9e\\x90</flr_nm><rcept_dt>20200330</rcept_dt><rm>\\xec\\x97\\xb0</rm></list><list><corp_code>00126380</corp_code><corp_name>\\xec\\x82\\xbc\\xec\\x84\\xb1\\xec\\xa0\\x84\\xec\\x9e\\x90</corp_name><stock_code>005930</stock_code><corp_cls>Y</corp_cls><report_nm>\\xeb\\xb6\\x84\\xea\\xb8\\xb0\\xeb\\xb3\\xb4\\xea\\xb3\\xa0\\xec\\x84\\x9c (2019.09)</report_nm><rcept_no>20191114001273</rcept_no><flr_nm>\\xec\\x82\\xbc\\xec\\x84\\xb1\\xec\\xa0\\x84\\xec\\x9e\\x90</flr_nm><rcept_dt>20191114</rcept_dt><rm></rm></list><list><corp_code>00126380</corp_code><corp_name>\\xec\\x82\\xbc\\xec\\x84\\xb1\\xec\\xa0\\x84\\xec\\x9e\\x90</corp_name><stock_code>005930</stock_code><corp_cls>Y</corp_cls><report_nm>\\xeb\\xb0\\x98\\xea\\xb8\\xb0\\xeb\\xb3\\xb4\\xea\\xb3\\xa0\\xec\\x84\\x9c (2019.06)</report_nm><rcept_no>20190814002218</rcept_no><flr_nm>\\xec\\x82\\xbc\\xec\\x84\\xb1\\xec\\xa0\\x84\\xec\\x9e\\x90</flr_nm><rcept_dt>20190814</rcept_dt><rm></rm></list><list><corp_code>00126380</corp_code><corp_name>\\xec\\x82\\xbc\\xec\\x84\\xb1\\xec\\xa0\\x84\\xec\\x9e\\x90</corp_name><stock_code>005930</stock_code><corp_cls>Y</corp_cls><report_nm>\\xeb\\xb6\\x84\\xea\\xb8\\xb0\\xeb\\xb3\\xb4\\xea\\xb3\\xa0\\xec\\x84\\x9c (2019.03)</report_nm><rcept_no>20190515001605</rcept_no><flr_nm>\\xec\\x82\\xbc\\xec\\x84\\xb1\\xec\\xa0\\x84\\xec\\x9e\\x90</flr_nm><rcept_dt>20190515</rcept_dt><rm></rm></list><list><corp_code>00126380</corp_code><corp_name>\\xec\\x82\\xbc\\xec\\x84\\xb1\\xec\\xa0\\x84\\xec\\x9e\\x90</corp_name><stock_code>005930</stock_code><corp_cls>Y</corp_cls><report_nm>\\xec\\x82\\xac\\xec\\x97\\x85\\xeb\\xb3\\xb4\\xea\\xb3\\xa0\\xec\\x84\\x9c (2018.12)</report_nm><rcept_no>20190401004781</rcept_no><flr_nm>\\xec\\x82\\xbc\\xec\\x84\\xb1\\xec\\xa0\\x84\\xec\\x9e\\x90</flr_nm><rcept_dt>20190401</rcept_dt><rm>\\xec\\x97\\xb0</rm></list><list><corp_code>00126380</corp_code><corp_name>\\xec\\x82\\xbc\\xec\\x84\\xb1\\xec\\xa0\\x84\\xec\\x9e\\x90</corp_name><stock_code>005930</stock_code><corp_cls>Y</corp_cls><report_nm>\\xeb\\xb6\\x84\\xea\\xb8\\xb0\\xeb\\xb3\\xb4\\xea\\xb3\\xa0\\xec\\x84\\x9c (2018.09)</report_nm><rcept_no>20181114001530</rcept_no><flr_nm>\\xec\\x82\\xbc\\xec\\x84\\xb1\\xec\\xa0\\x84\\xec\\x9e\\x90</flr_nm><rcept_dt>20181114</rcept_dt><rm></rm></list><list><corp_code>00126380</corp_code><corp_name>\\xec\\x82\\xbc\\xec\\x84\\xb1\\xec\\xa0\\x84\\xec\\x9e\\x90</corp_name><stock_code>005930</stock_code><corp_cls>Y</corp_cls><report_nm>\\xeb\\xb0\\x98\\xea\\xb8\\xb0\\xeb\\xb3\\xb4\\xea\\xb3\\xa0\\xec\\x84\\x9c (2018.06)</report_nm><rcept_no>20180814001113</rcept_no><flr_nm>\\xec\\x82\\xbc\\xec\\x84\\xb1\\xec\\xa0\\x84\\xec\\x9e\\x90</flr_nm><rcept_dt>20180814</rcept_dt><rm></rm></list></result>'"
      ]
     },
     "execution_count": 17,
     "metadata": {},
     "output_type": "execute_result"
    }
   ],
   "source": [
    "resp = requests.get(url)\n",
    "resp.content"
   ]
  },
  {
   "cell_type": "code",
   "execution_count": 23,
   "metadata": {},
   "outputs": [
    {
     "data": {
      "text/plain": [
       "'<?xml version=\"1.0\" encoding=\"UTF-8\" standalone=\"yes\"?><result><status>000</status><message>정상</message><page_no>1</page_no><page_count>10</page_count><total_count>91</total_count><total_page>10</total_page><list><corp_code>00126380</corp_code><corp_name>삼성전자</corp_name><stock_code>005930</stock_code><corp_cls>Y</corp_cls><report_nm>분기보고서 (2020.09)</report_nm><rcept_no>20201116001248</rcept_no><flr_nm>삼성전자</flr_nm><rcept_dt>20201116</rcept_dt><rm></rm></list><list><corp_code>00126380</corp_code><corp_name>삼성전자</corp_name><stock_code>005930</stock_code><corp_cls>Y</corp_cls><report_nm>반기보고서 (2020.06)</report_nm><rcept_no>20200814001766</rcept_no><flr_nm>삼성전자</flr_nm><rcept_dt>20200814</rcept_dt><rm></rm></list><list><corp_code>00126380</corp_code><corp_name>삼성전자</corp_name><stock_code>005930</stock_code><corp_cls>Y</corp_cls><report_nm>분기보고서 (2020.03)</report_nm><rcept_no>20200515001451</rcept_no><flr_nm>삼성전자</flr_nm><rcept_dt>20200515</rcept_dt><rm></rm></list><list><corp_code>00126380</corp_code><corp_name>삼성전자</corp_name><stock_code>005930</stock_code><corp_cls>Y</corp_cls><report_nm>사업보고서 (2019.12)</report_nm><rcept_no>20200330003851</rcept_no><flr_nm>삼성전자</flr_nm><rcept_dt>20200330</rcept_dt><rm>연</rm></list><list><corp_code>00126380</corp_code><corp_name>삼성전자</corp_name><stock_code>005930</stock_code><corp_cls>Y</corp_cls><report_nm>분기보고서 (2019.09)</report_nm><rcept_no>20191114001273</rcept_no><flr_nm>삼성전자</flr_nm><rcept_dt>20191114</rcept_dt><rm></rm></list><list><corp_code>00126380</corp_code><corp_name>삼성전자</corp_name><stock_code>005930</stock_code><corp_cls>Y</corp_cls><report_nm>반기보고서 (2019.06)</report_nm><rcept_no>20190814002218</rcept_no><flr_nm>삼성전자</flr_nm><rcept_dt>20190814</rcept_dt><rm></rm></list><list><corp_code>00126380</corp_code><corp_name>삼성전자</corp_name><stock_code>005930</stock_code><corp_cls>Y</corp_cls><report_nm>분기보고서 (2019.03)</report_nm><rcept_no>20190515001605</rcept_no><flr_nm>삼성전자</flr_nm><rcept_dt>20190515</rcept_dt><rm></rm></list><list><corp_code>00126380</corp_code><corp_name>삼성전자</corp_name><stock_code>005930</stock_code><corp_cls>Y</corp_cls><report_nm>사업보고서 (2018.12)</report_nm><rcept_no>20190401004781</rcept_no><flr_nm>삼성전자</flr_nm><rcept_dt>20190401</rcept_dt><rm>연</rm></list><list><corp_code>00126380</corp_code><corp_name>삼성전자</corp_name><stock_code>005930</stock_code><corp_cls>Y</corp_cls><report_nm>분기보고서 (2018.09)</report_nm><rcept_no>20181114001530</rcept_no><flr_nm>삼성전자</flr_nm><rcept_dt>20181114</rcept_dt><rm></rm></list><list><corp_code>00126380</corp_code><corp_name>삼성전자</corp_name><stock_code>005930</stock_code><corp_cls>Y</corp_cls><report_nm>반기보고서 (2018.06)</report_nm><rcept_no>20180814001113</rcept_no><flr_nm>삼성전자</flr_nm><rcept_dt>20180814</rcept_dt><rm></rm></list></result>'"
      ]
     },
     "execution_count": 23,
     "metadata": {},
     "output_type": "execute_result"
    }
   ],
   "source": [
    "raw_no = resp.content.decode('UTF-8') # decode ~ 이건 위에 결과를 좀 더 쉽게 볼 수 있게 해줌\n",
    "raw_no"
   ]
  },
  {
   "cell_type": "code",
   "execution_count": 28,
   "metadata": {},
   "outputs": [
    {
     "data": {
      "text/plain": [
       "['20201116001248',\n",
       " '20200814001766',\n",
       " '20200515001451',\n",
       " '20200330003851',\n",
       " '20191114001273',\n",
       " '20190814002218',\n",
       " '20190515001605',\n",
       " '20190401004781',\n",
       " '20181114001530',\n",
       " '20180814001113']"
      ]
     },
     "execution_count": 28,
     "metadata": {},
     "output_type": "execute_result"
    }
   ],
   "source": [
    "rcept_list = re.findall(r'<rcept_no>(.*?)</rcept_no>', raw_no)\n",
    "rcept_list"
   ]
  },
  {
   "cell_type": "code",
   "execution_count": 29,
   "metadata": {},
   "outputs": [
    {
     "data": {
      "text/plain": [
       "['분기보고서 (2020.09)',\n",
       " '반기보고서 (2020.06)',\n",
       " '분기보고서 (2020.03)',\n",
       " '사업보고서 (2019.12)',\n",
       " '분기보고서 (2019.09)',\n",
       " '반기보고서 (2019.06)',\n",
       " '분기보고서 (2019.03)',\n",
       " '사업보고서 (2018.12)',\n",
       " '분기보고서 (2018.09)',\n",
       " '반기보고서 (2018.06)']"
      ]
     },
     "execution_count": 29,
     "metadata": {},
     "output_type": "execute_result"
    }
   ],
   "source": [
    "period_list = re.findall(r'<report_nm>(.*?)</report_nm>', raw_no)\n",
    "period_list"
   ]
  },
  {
   "cell_type": "code",
   "execution_count": 30,
   "metadata": {},
   "outputs": [
    {
     "data": {
      "text/plain": [
       "{'하나': '1', '둘': '2'}"
      ]
     },
     "execution_count": 30,
     "metadata": {},
     "output_type": "execute_result"
    }
   ],
   "source": [
    "# 딕셔너리 복습\n",
    "\n",
    "{'하나': '1', '둘': '2'}"
   ]
  },
  {
   "cell_type": "code",
   "execution_count": 32,
   "metadata": {},
   "outputs": [
    {
     "data": {
      "text/plain": [
       "{'하나': '1', '둘': '2'}"
      ]
     },
     "execution_count": 32,
     "metadata": {},
     "output_type": "execute_result"
    }
   ],
   "source": [
    "# 딕셔너리 응용\n",
    "\n",
    "dict(zip(['하나', '둘'],['1','2']))"
   ]
  },
  {
   "cell_type": "code",
   "execution_count": 34,
   "metadata": {},
   "outputs": [
    {
     "data": {
      "text/plain": [
       "{'분기보고서 (2020.09)': '20201116001248',\n",
       " '반기보고서 (2020.06)': '20200814001766',\n",
       " '분기보고서 (2020.03)': '20200515001451',\n",
       " '사업보고서 (2019.12)': '20200330003851',\n",
       " '분기보고서 (2019.09)': '20191114001273',\n",
       " '반기보고서 (2019.06)': '20190814002218',\n",
       " '분기보고서 (2019.03)': '20190515001605',\n",
       " '사업보고서 (2018.12)': '20190401004781',\n",
       " '분기보고서 (2018.09)': '20181114001530',\n",
       " '반기보고서 (2018.06)': '20180814001113'}"
      ]
     },
     "execution_count": 34,
     "metadata": {},
     "output_type": "execute_result"
    }
   ],
   "source": [
    "dict(zip(period_list, rcept_list))"
   ]
  },
  {
   "cell_type": "code",
   "execution_count": 37,
   "metadata": {},
   "outputs": [
    {
     "data": {
      "text/plain": [
       "<Response [200]>"
      ]
     },
     "execution_count": 37,
     "metadata": {},
     "output_type": "execute_result"
    }
   ],
   "source": [
    "# dcm no 찾기\n",
    "# 필요한건 다운로드 눌렀을때 주소에 있는 dcm no\n",
    "# 다트에서 보고서 들어가서 우클릭 후 페이지 원본(소스)보기하면 해당 dcm no 찾을 수 있음\n",
    "# 그럼 이걸 가져와야 하니깐...\n",
    "\n",
    "import requests\n",
    "import pandas as pd\n",
    "from io import BytesIO\n",
    "\n",
    "user_agent = 'Mozilla/5.0 (Windows NT 10.0; Win64; x64) AppleWebKit/537.36 (KHTML, like Gecko) Chrome/87.0.4280.67 Safari/537.36 Edg/87.0.664.47'\n",
    "headers = {'user-agent': user_agent}\n",
    "\n",
    "resp = requests.get('http://dart.fss.or.kr/dsaf001/main.do?rcpNo=20201116001248',headers = headers)\n",
    "resp"
   ]
  },
  {
   "cell_type": "code",
   "execution_count": 52,
   "metadata": {},
   "outputs": [
    {
     "data": {
      "text/plain": [
       "'\\n\\n\\n<!DOCTYPE HTML PUBLIC \"-//W3C//DTD HTML 4.01 Transitional//EN\" \"http://www.w3.org/TR/html4/loose.dtd\">\\n<html>\\n<head>\\n<title>\\n삼성전자/분기보고서/2020.11.16\\n</title>\\n<meta http-equiv=\"X-UA-Compatible\" content=\"IE=EmulateIE8\" >\\n<meta http-equiv=\"Content-Type\" content=\"text/html; charset=utf-8\" >\\n<style type=\"text/css\">\\n    .x-window-dlg .ext-mb-download {\\n        background:transparent url(images/download.gif) no-repeat top left;\\n        height:46px;\\n    }\\n</style>\\n<link rel=\"stylesheet\" type=\"text/css\" href=\"/css/viewer.css\" charset=\"utf-8\">\\n<script type=\"text/javascript\" src=\"/js/prototype.js\"></script>\\n<script type=\"text/javascript\" src=\"/js/jquery/jquery-all.js\"></script>\\n\\n<!-- 2014.03.11 ext 3.4 -->\\n<!--[if lte IE 8]><link rel=\"stylesheet\" type=\"text/css\" href=\"/js/ext-viewer/resources/css/ext-all-ie8.css\" ><![endif]-->\\n<!--[if (gte IE 9)|!(IE)]><!--><link rel=\"stylesheet\" type=\"text/css\" href=\"/js/ext-viewer/resources/css/ext-all.css\" ><!--<![endif]-->\\n<script type=\"text/javascript\" src=\"/js/ext-viewer/adapter/ext/ext-base.js\"></script>\\n<script type=\"text/javascript\" src=\"/js/ext-viewer/ext-all.js\"></script>\\n\\n<!-- application css -->\\n<link rel=\"stylesheet\" href=\"/css/report_c.css\" type=\"text/css\" media=\"screen\">\\n<link rel=\"stylesheet\" type=\"text/css\" href=\"/css/viewer/report_dart.css\" charset=\"utf-8\">\\n<link rel=\"stylesheet\" type=\"text/css\" href=\"/css/viewer/report_pop.css\" charset=\"utf-8\">\\n\\n<!-- x-xeries js libraries  -->\\n<script type=\"text/javascript\" src=\"/js/xjs.js\"></script>\\n<script type=\"text/javascript\" src=\"/js/dart/build/ds-all-min.js\"></script>\\n<script type=\"text/javascript\" src=\"/js/viewer/popup.js\"></script>\\n\\n<script type=\"text/javascript\" src=\"/js/idart/idart.js\"></script><!-- idart용 -->\\n<script type=\"text/javascript\">\\n\\nvar winTestNotice = null;\\t// xwindow object\\nvar divTestNotice = \"divTestNoticeWin\";\\t// ajax 수신 div\\n$j(document).ready(function() {\\n\\tinitPage();\\n\\n\\tinitScroll();\\n\\t$j(window).resize(function(){\\n\\t\\t$j(\"#center-panel > div > div\").resize(resizeFrame);\\n\\t\\tresizeFrame();\\n\\t}).resize();\\n});\\n\\n\\nvar resizeFrame = function() {\\n\\tw\\t= parseInt($j(\"#center-panel > div > div\").css(\"width\"));\\n\\th\\t= parseInt($j(\"#center-panel > div > div\").css(\"height\"));\\n\\t//$j(\"#ifrm\").css(\"width\", (w - 12) + \"px\");\\n\\t\\n\\t\\t\\n\\t\\n\\t$j(\"#ifrm\").css(\"height\", h + \"px\");\\n\\t$j(\"#mobileScroll\").css(\"height\", h + \"px\");\\n};\\n\\nvar west;\\n\\n//모바일(ios)에서 본문내용 스크롤 추가\\nfunction initScroll() {\\n\\tvar iosKeywords = new Array(\"iPhone\",\"iPod\",\"iPad\");\\n\\tfor(var i=0; i<iosKeywords.length; i++){\\n\\t\\tif(navigator.userAgent.indexOf(iosKeywords[i]) > -1) {\\n\\t\\t\\t$j(\"#mobileScroll\").css(\"overflow\",\"auto\");\\n\\t\\t\\t$j(\"#mobileScroll\").css(\"-webkit-overflow-scrolling\",\"touch\");\\n\\t\\t\\t$j(\"#mobileScroll\").css(\"width\",\"100%\");\\n\\t\\t}\\n\\t}\\n}\\n\\nfunction initPage() {\\n\\n\\tinitCorpInfo();\\t// 기업개황팝업 초기화\\n\\n\\tExt.BLANK_IMAGE_URL = \"/js/extjs/resources/images/default/s.gif\";\\n\\n\\tExt.state.Manager.setProvider(new Ext.state.CookieProvider());\\n\\n\\tvar north = new Ext.BoxComponent({\\n\\t    region:\\'north\\',\\n\\t    el: \\'north\\',\\n\\t    height:74\\n\\t});\\n\\n\\tvar Tree = Ext.tree;\\n\\n\\tvar treeRoot = new Tree.TreeNode({\\n\\t\\ttext: \"전체\",\\n\\t\\tid: \"root\",\\n\\t\\thref: \"javascript: viewDoc(\\'20201116001248\\', \\'7549051\\', null, null, null, \\'dart3.xsd\\')\"\\n\\t});\\n\\n\\twest = new Tree.TreePanel({\\n\\t\\tid:\"west-panel\",\\n\\t\\ttitle:\"문서목차\",\\n\\t\\tregion:\"west\",\\n\\t\\tsplit:true,\\n\\t\\tautoScroll:true,\\n\\t\\twidth: 200,\\n\\t\\tminSize: 175,\\n\\t\\tmaxSize: 400,\\n\\t\\tcollapsible: true,\\n\\t\\tcollapsed: false,\\n\\t\\tmargins:\"5 0 5 5\",\\n\\t\\tanimate:false,\\n\\t\\tuseArrows:false,\\n\\t\\tloader: new Tree.TreeLoader(),\\n\\t\\tenableDD:false,\\n\\t\\tcontainerScroll: true,\\n\\t\\tchecked: false,\\n\\t\\trootVisible: false,\\n\\t\\ttitleCollapse: false\\n\\t});\\n\\n\\tvar cnt = 0;\\n\\n\\t\\n\\t\\n\\t\\t// 1\\n\\t\\ttreeNode1 = new Tree.TreeNode({\\n\\t\\t\\ttext: \"분 기 보 고 서\",\\n\\t\\t\\tid: \"1\",\\n\\t\\t\\tcls: \"text\",\\n\\t\\t\\tlisteners: {\\n\\t\\t\\t\\tclick: function() {viewDoc(\\'20201116001248\\', \\'7549051\\', \\'1\\', \\'670\\', \\'4090\\', \\'dart3.xsd\\');}\\n\\t\\t\\t}\\n\\t\\t});\\n\\t\\tcnt++;\\n\\t\\t\\n\\t\\ttreeRoot.appendChild(treeNode1);\\n\\t\\t\\n\\t\\t\\t\\n\\t\\t\\t\\n\\t\\t\\n\\t\\n\\t\\t// 2\\n\\t\\ttreeNode1 = new Tree.TreeNode({\\n\\t\\t\\ttext: \"【 대표이사 등의 확인 】\",\\n\\t\\t\\tid: \"2\",\\n\\t\\t\\tcls: \"text\",\\n\\t\\t\\tlisteners: {\\n\\t\\t\\t\\tclick: function() {viewDoc(\\'20201116001248\\', \\'7549051\\', \\'2\\', \\'12797\\', \\'456\\', \\'dart3.xsd\\');}\\n\\t\\t\\t}\\n\\t\\t});\\n\\t\\tcnt++;\\n\\t\\t\\n\\t\\ttreeRoot.appendChild(treeNode1);\\n\\t\\t\\n\\t\\n\\t\\t// 3\\n\\t\\ttreeNode1 = new Tree.TreeNode({\\n\\t\\t\\ttext: \"I. 회사의 개요\",\\n\\t\\t\\tid: \"3\",\\n\\t\\t\\tcls: \"text\",\\n\\t\\t\\tlisteners: {\\n\\t\\t\\t\\tclick: function() {viewDoc(\\'20201116001248\\', \\'7549051\\', \\'3\\', \\'13257\\', \\'343055\\', \\'dart3.xsd\\');}\\n\\t\\t\\t}\\n\\t\\t});\\n\\t\\tcnt++;\\n\\t\\t\\n\\t\\ttreeNode2 = new Tree.TreeNode({\\n\\t\\t\\ttext: \"1. 회사의 개요\",\\n\\t\\t\\tid: \"4\",\\n\\t\\t\\tcls: \"text\",\\n\\t\\t\\tlisteners: {\\n\\t\\t\\t\\tclick: function() {viewDoc(\\'20201116001248\\', \\'7549051\\', \\'4\\', \\'13356\\', \\'239281\\', \\'dart3.xsd\\');}\\n\\t\\t\\t}\\n\\t\\t});\\n\\t\\tcnt++;\\n\\t\\t\\t\\n\\t\\ttreeNode1.appendChild(treeNode2);\\n\\t\\t\\n\\t\\ttreeNode2 = new Tree.TreeNode({\\n\\t\\t\\ttext: \"2. 회사의 연혁\",\\n\\t\\t\\tid: \"5\",\\n\\t\\t\\tcls: \"text\",\\n\\t\\t\\tlisteners: {\\n\\t\\t\\t\\tclick: function() {viewDoc(\\'20201116001248\\', \\'7549051\\', \\'5\\', \\'252641\\', \\'15964\\', \\'dart3.xsd\\');}\\n\\t\\t\\t}\\n\\t\\t});\\n\\t\\tcnt++;\\n\\t\\t\\t\\n\\t\\ttreeNode1.appendChild(treeNode2);\\n\\t\\t\\n\\t\\ttreeNode2 = new Tree.TreeNode({\\n\\t\\t\\ttext: \"3. 자본금 변동사항\",\\n\\t\\t\\tid: \"6\",\\n\\t\\t\\tcls: \"text\",\\n\\t\\t\\tlisteners: {\\n\\t\\t\\t\\tclick: function() {viewDoc(\\'20201116001248\\', \\'7549051\\', \\'6\\', \\'268609\\', \\'3817\\', \\'dart3.xsd\\');}\\n\\t\\t\\t}\\n\\t\\t});\\n\\t\\tcnt++;\\n\\t\\t\\t\\n\\t\\ttreeNode1.appendChild(treeNode2);\\n\\t\\t\\n\\t\\ttreeNode2 = new Tree.TreeNode({\\n\\t\\t\\ttext: \"4. 주식의 총수 등\",\\n\\t\\t\\tid: \"7\",\\n\\t\\t\\tcls: \"text\",\\n\\t\\t\\tlisteners: {\\n\\t\\t\\t\\tclick: function() {viewDoc(\\'20201116001248\\', \\'7549051\\', \\'7\\', \\'272430\\', \\'62327\\', \\'dart3.xsd\\');}\\n\\t\\t\\t}\\n\\t\\t});\\n\\t\\tcnt++;\\n\\t\\t\\t\\n\\t\\ttreeNode1.appendChild(treeNode2);\\n\\t\\t\\n\\t\\ttreeNode2 = new Tree.TreeNode({\\n\\t\\t\\ttext: \"5. 의결권 현황\",\\n\\t\\t\\tid: \"8\",\\n\\t\\t\\tcls: \"text\",\\n\\t\\t\\tlisteners: {\\n\\t\\t\\t\\tclick: function() {viewDoc(\\'20201116001248\\', \\'7549051\\', \\'8\\', \\'334761\\', \\'7784\\', \\'dart3.xsd\\');}\\n\\t\\t\\t}\\n\\t\\t});\\n\\t\\tcnt++;\\n\\t\\t\\t\\n\\t\\ttreeNode1.appendChild(treeNode2);\\n\\t\\t\\n\\t\\ttreeNode2 = new Tree.TreeNode({\\n\\t\\t\\ttext: \"6. 배당에 관한 사항 등\",\\n\\t\\t\\tid: \"9\",\\n\\t\\t\\tcls: \"text\",\\n\\t\\t\\tlisteners: {\\n\\t\\t\\t\\tclick: function() {viewDoc(\\'20201116001248\\', \\'7549051\\', \\'9\\', \\'342549\\', \\'13749\\', \\'dart3.xsd\\');}\\n\\t\\t\\t}\\n\\t\\t});\\n\\t\\tcnt++;\\n\\t\\t\\t\\n\\t\\ttreeNode1.appendChild(treeNode2);\\n\\t\\t\\n\\t\\ttreeRoot.appendChild(treeNode1);\\n\\t\\t\\n\\t\\n\\t\\t// 4\\n\\t\\ttreeNode1 = new Tree.TreeNode({\\n\\t\\t\\ttext: \"II. 사업의 내용\",\\n\\t\\t\\tid: \"10\",\\n\\t\\t\\tcls: \"text\",\\n\\t\\t\\tlisteners: {\\n\\t\\t\\t\\tclick: function() {viewDoc(\\'20201116001248\\', \\'7549051\\', \\'10\\', \\'356316\\', \\'262043\\', \\'dart3.xsd\\');}\\n\\t\\t\\t}\\n\\t\\t});\\n\\t\\tcnt++;\\n\\t\\t\\n\\t\\ttreeRoot.appendChild(treeNode1);\\n\\t\\t\\n\\t\\n\\t\\t// 5\\n\\t\\ttreeNode1 = new Tree.TreeNode({\\n\\t\\t\\ttext: \"III. 재무에 관한 사항\",\\n\\t\\t\\tid: \"11\",\\n\\t\\t\\tcls: \"text\",\\n\\t\\t\\tlisteners: {\\n\\t\\t\\t\\tclick: function() {viewDoc(\\'20201116001248\\', \\'7549051\\', \\'11\\', \\'618363\\', \\'1092399\\', \\'dart3.xsd\\');}\\n\\t\\t\\t}\\n\\t\\t});\\n\\t\\tcnt++;\\n\\t\\t\\n\\t\\ttreeNode2 = new Tree.TreeNode({\\n\\t\\t\\ttext: \"1. 요약재무정보\",\\n\\t\\t\\tid: \"12\",\\n\\t\\t\\tcls: \"text\",\\n\\t\\t\\tlisteners: {\\n\\t\\t\\t\\tclick: function() {viewDoc(\\'20201116001248\\', \\'7549051\\', \\'12\\', \\'618490\\', \\'21671\\', \\'dart3.xsd\\');}\\n\\t\\t\\t}\\n\\t\\t});\\n\\t\\tcnt++;\\n\\t\\t\\t\\n\\t\\ttreeNode1.appendChild(treeNode2);\\n\\t\\t\\n\\t\\ttreeNode2 = new Tree.TreeNode({\\n\\t\\t\\ttext: \"2. 연결재무제표\",\\n\\t\\t\\tid: \"13\",\\n\\t\\t\\tcls: \"text\",\\n\\t\\t\\tlisteners: {\\n\\t\\t\\t\\tclick: function() {viewDoc(\\'20201116001248\\', \\'7549051\\', \\'13\\', \\'640406\\', \\'83173\\', \\'dart3.xsd\\');}\\n\\t\\t\\t}\\n\\t\\t});\\n\\t\\tcnt++;\\n\\t\\t\\t\\n\\t\\ttreeNode1.appendChild(treeNode2);\\n\\t\\t\\n\\t\\ttreeNode2 = new Tree.TreeNode({\\n\\t\\t\\ttext: \"3. 연결재무제표 주석\",\\n\\t\\t\\tid: \"14\",\\n\\t\\t\\tcls: \"text\",\\n\\t\\t\\tlisteners: {\\n\\t\\t\\t\\tclick: function() {viewDoc(\\'20201116001248\\', \\'7549051\\', \\'14\\', \\'723583\\', \\'385270\\', \\'dart3.xsd\\');}\\n\\t\\t\\t}\\n\\t\\t});\\n\\t\\tcnt++;\\n\\t\\t\\t\\n\\t\\ttreeNode1.appendChild(treeNode2);\\n\\t\\t\\n\\t\\ttreeNode2 = new Tree.TreeNode({\\n\\t\\t\\ttext: \"4. 재무제표\",\\n\\t\\t\\tid: \"15\",\\n\\t\\t\\tcls: \"text\",\\n\\t\\t\\tlisteners: {\\n\\t\\t\\t\\tclick: function() {viewDoc(\\'20201116001248\\', \\'7549051\\', \\'15\\', \\'1108857\\', \\'61409\\', \\'dart3.xsd\\');}\\n\\t\\t\\t}\\n\\t\\t});\\n\\t\\tcnt++;\\n\\t\\t\\t\\n\\t\\ttreeNode1.appendChild(treeNode2);\\n\\t\\t\\n\\t\\ttreeNode2 = new Tree.TreeNode({\\n\\t\\t\\ttext: \"5. 재무제표 주석\",\\n\\t\\t\\tid: \"16\",\\n\\t\\t\\tcls: \"text\",\\n\\t\\t\\tlisteners: {\\n\\t\\t\\t\\tclick: function() {viewDoc(\\'20201116001248\\', \\'7549051\\', \\'16\\', \\'1170270\\', \\'301398\\', \\'dart3.xsd\\');}\\n\\t\\t\\t}\\n\\t\\t});\\n\\t\\tcnt++;\\n\\t\\t\\t\\n\\t\\ttreeNode1.appendChild(treeNode2);\\n\\t\\t\\n\\t\\ttreeNode2 = new Tree.TreeNode({\\n\\t\\t\\ttext: \"6. 기타 재무에 관한 사항\",\\n\\t\\t\\tid: \"17\",\\n\\t\\t\\tcls: \"text\",\\n\\t\\t\\tlisteners: {\\n\\t\\t\\t\\tclick: function() {viewDoc(\\'20201116001248\\', \\'7549051\\', \\'17\\', \\'1471698\\', \\'239050\\', \\'dart3.xsd\\');}\\n\\t\\t\\t}\\n\\t\\t});\\n\\t\\tcnt++;\\n\\t\\t\\t\\n\\t\\ttreeNode1.appendChild(treeNode2);\\n\\t\\t\\n\\t\\ttreeRoot.appendChild(treeNode1);\\n\\t\\t\\n\\t\\n\\t\\t// 6\\n\\t\\ttreeNode1 = new Tree.TreeNode({\\n\\t\\t\\ttext: \"IV. 이사의 경영진단 및 분석의견\",\\n\\t\\t\\tid: \"18\",\\n\\t\\t\\tcls: \"text\",\\n\\t\\t\\tlisteners: {\\n\\t\\t\\t\\tclick: function() {viewDoc(\\'20201116001248\\', \\'7549051\\', \\'18\\', \\'1710766\\', \\'310\\', \\'dart3.xsd\\');}\\n\\t\\t\\t}\\n\\t\\t});\\n\\t\\tcnt++;\\n\\t\\t\\n\\t\\ttreeRoot.appendChild(treeNode1);\\n\\t\\t\\n\\t\\n\\t\\t// 7\\n\\t\\ttreeNode1 = new Tree.TreeNode({\\n\\t\\t\\ttext: \"V. 감사인의 감사의견 등\",\\n\\t\\t\\tid: \"19\",\\n\\t\\t\\tcls: \"text\",\\n\\t\\t\\tlisteners: {\\n\\t\\t\\t\\tclick: function() {viewDoc(\\'20201116001248\\', \\'7549051\\', \\'19\\', \\'1711080\\', \\'40021\\', \\'dart3.xsd\\');}\\n\\t\\t\\t}\\n\\t\\t});\\n\\t\\tcnt++;\\n\\t\\t\\n\\t\\ttreeRoot.appendChild(treeNode1);\\n\\t\\t\\n\\t\\n\\t\\t// 8\\n\\t\\ttreeNode1 = new Tree.TreeNode({\\n\\t\\t\\ttext: \"VI. 이사회 등 회사의 기관에 관한 사항\",\\n\\t\\t\\tid: \"20\",\\n\\t\\t\\tcls: \"text\",\\n\\t\\t\\tlisteners: {\\n\\t\\t\\t\\tclick: function() {viewDoc(\\'20201116001248\\', \\'7549051\\', \\'20\\', \\'1751105\\', \\'149713\\', \\'dart3.xsd\\');}\\n\\t\\t\\t}\\n\\t\\t});\\n\\t\\tcnt++;\\n\\t\\t\\n\\t\\ttreeNode2 = new Tree.TreeNode({\\n\\t\\t\\ttext: \"1. 이사회에 관한 사항\",\\n\\t\\t\\tid: \"21\",\\n\\t\\t\\tcls: \"text\",\\n\\t\\t\\tlisteners: {\\n\\t\\t\\t\\tclick: function() {viewDoc(\\'20201116001248\\', \\'7549051\\', \\'21\\', \\'1751218\\', \\'105316\\', \\'dart3.xsd\\');}\\n\\t\\t\\t}\\n\\t\\t});\\n\\t\\tcnt++;\\n\\t\\t\\t\\n\\t\\ttreeNode1.appendChild(treeNode2);\\n\\t\\t\\n\\t\\ttreeNode2 = new Tree.TreeNode({\\n\\t\\t\\ttext: \"2. 감사제도에 관한 사항\",\\n\\t\\t\\tid: \"22\",\\n\\t\\t\\tcls: \"text\",\\n\\t\\t\\tlisteners: {\\n\\t\\t\\t\\tclick: function() {viewDoc(\\'20201116001248\\', \\'7549051\\', \\'22\\', \\'1856538\\', \\'42763\\', \\'dart3.xsd\\');}\\n\\t\\t\\t}\\n\\t\\t});\\n\\t\\tcnt++;\\n\\t\\t\\t\\n\\t\\ttreeNode1.appendChild(treeNode2);\\n\\t\\t\\n\\t\\ttreeNode2 = new Tree.TreeNode({\\n\\t\\t\\ttext: \"3. 주주의 의결권 행사에 관한 사항\",\\n\\t\\t\\tid: \"23\",\\n\\t\\t\\tcls: \"text\",\\n\\t\\t\\tlisteners: {\\n\\t\\t\\t\\tclick: function() {viewDoc(\\'20201116001248\\', \\'7549051\\', \\'23\\', \\'1899305\\', \\'1499\\', \\'dart3.xsd\\');}\\n\\t\\t\\t}\\n\\t\\t});\\n\\t\\tcnt++;\\n\\t\\t\\t\\n\\t\\ttreeNode1.appendChild(treeNode2);\\n\\t\\t\\n\\t\\ttreeRoot.appendChild(treeNode1);\\n\\t\\t\\n\\t\\n\\t\\t// 9\\n\\t\\ttreeNode1 = new Tree.TreeNode({\\n\\t\\t\\ttext: \"VII. 주주에 관한 사항\",\\n\\t\\t\\tid: \"24\",\\n\\t\\t\\tcls: \"text\",\\n\\t\\t\\tlisteners: {\\n\\t\\t\\t\\tclick: function() {viewDoc(\\'20201116001248\\', \\'7549051\\', \\'24\\', \\'1900822\\', \\'63724\\', \\'dart3.xsd\\');}\\n\\t\\t\\t}\\n\\t\\t});\\n\\t\\tcnt++;\\n\\t\\t\\n\\t\\ttreeRoot.appendChild(treeNode1);\\n\\t\\t\\n\\t\\n\\t\\t// 10\\n\\t\\ttreeNode1 = new Tree.TreeNode({\\n\\t\\t\\ttext: \"VIII. 임원 및 직원 등에 관한 사항\",\\n\\t\\t\\tid: \"25\",\\n\\t\\t\\tcls: \"text\",\\n\\t\\t\\tlisteners: {\\n\\t\\t\\t\\tclick: function() {viewDoc(\\'20201116001248\\', \\'7549051\\', \\'25\\', \\'1964550\\', \\'819809\\', \\'dart3.xsd\\');}\\n\\t\\t\\t}\\n\\t\\t});\\n\\t\\tcnt++;\\n\\t\\t\\n\\t\\ttreeNode2 = new Tree.TreeNode({\\n\\t\\t\\ttext: \"1. 임원 및 직원 등의 현황\",\\n\\t\\t\\tid: \"26\",\\n\\t\\t\\tcls: \"text\",\\n\\t\\t\\tlisteners: {\\n\\t\\t\\t\\tclick: function() {viewDoc(\\'20201116001248\\', \\'7549051\\', \\'26\\', \\'1964662\\', \\'801298\\', \\'dart3.xsd\\');}\\n\\t\\t\\t}\\n\\t\\t});\\n\\t\\tcnt++;\\n\\t\\t\\t\\n\\t\\ttreeNode1.appendChild(treeNode2);\\n\\t\\t\\n\\t\\ttreeNode2 = new Tree.TreeNode({\\n\\t\\t\\ttext: \"2. 임원의 보수 등\",\\n\\t\\t\\tid: \"27\",\\n\\t\\t\\tcls: \"text\",\\n\\t\\t\\tlisteners: {\\n\\t\\t\\t\\tclick: function() {viewDoc(\\'20201116001248\\', \\'7549051\\', \\'27\\', \\'2765964\\', \\'18381\\', \\'dart3.xsd\\');}\\n\\t\\t\\t}\\n\\t\\t});\\n\\t\\tcnt++;\\n\\t\\t\\t\\n\\t\\ttreeNode1.appendChild(treeNode2);\\n\\t\\t\\n\\t\\ttreeRoot.appendChild(treeNode1);\\n\\t\\t\\n\\t\\n\\t\\t// 11\\n\\t\\ttreeNode1 = new Tree.TreeNode({\\n\\t\\t\\ttext: \"IX. 계열회사 등에 관한 사항\",\\n\\t\\t\\tid: \"28\",\\n\\t\\t\\tcls: \"text\",\\n\\t\\t\\tlisteners: {\\n\\t\\t\\t\\tclick: function() {viewDoc(\\'20201116001248\\', \\'7549051\\', \\'28\\', \\'2784363\\', \\'519741\\', \\'dart3.xsd\\');}\\n\\t\\t\\t}\\n\\t\\t});\\n\\t\\tcnt++;\\n\\t\\t\\n\\t\\ttreeRoot.appendChild(treeNode1);\\n\\t\\t\\n\\t\\n\\t\\t// 12\\n\\t\\ttreeNode1 = new Tree.TreeNode({\\n\\t\\t\\ttext: \"X. 이해관계자와의 거래내용\",\\n\\t\\t\\tid: \"29\",\\n\\t\\t\\tcls: \"text\",\\n\\t\\t\\tlisteners: {\\n\\t\\t\\t\\tclick: function() {viewDoc(\\'20201116001248\\', \\'7549051\\', \\'29\\', \\'3304108\\', \\'58697\\', \\'dart3.xsd\\');}\\n\\t\\t\\t}\\n\\t\\t});\\n\\t\\tcnt++;\\n\\t\\t\\n\\t\\ttreeRoot.appendChild(treeNode1);\\n\\t\\t\\n\\t\\n\\t\\t// 13\\n\\t\\ttreeNode1 = new Tree.TreeNode({\\n\\t\\t\\ttext: \"XI. 그 밖에 투자자 보호를 위하여 필요한 사항\",\\n\\t\\t\\tid: \"30\",\\n\\t\\t\\tcls: \"text\",\\n\\t\\t\\tlisteners: {\\n\\t\\t\\t\\tclick: function() {viewDoc(\\'20201116001248\\', \\'7549051\\', \\'30\\', \\'3362809\\', \\'96801\\', \\'dart3.xsd\\');}\\n\\t\\t\\t}\\n\\t\\t});\\n\\t\\tcnt++;\\n\\t\\t\\n\\t\\ttreeRoot.appendChild(treeNode1);\\n\\t\\t\\n\\t\\n\\t\\t// 14\\n\\t\\ttreeNode1 = new Tree.TreeNode({\\n\\t\\t\\ttext: \"【 전문가의 확인 】\",\\n\\t\\t\\tid: \"31\",\\n\\t\\t\\tcls: \"text\",\\n\\t\\t\\tlisteners: {\\n\\t\\t\\t\\tclick: function() {viewDoc(\\'20201116001248\\', \\'7549051\\', \\'31\\', \\'3459614\\', \\'346\\', \\'dart3.xsd\\');}\\n\\t\\t\\t}\\n\\t\\t});\\n\\t\\tcnt++;\\n\\t\\t\\n\\t\\ttreeNode2 = new Tree.TreeNode({\\n\\t\\t\\ttext: \"1. 전문가의 확인\",\\n\\t\\t\\tid: \"32\",\\n\\t\\t\\tcls: \"text\",\\n\\t\\t\\tlisteners: {\\n\\t\\t\\t\\tclick: function() {viewDoc(\\'20201116001248\\', \\'7549051\\', \\'32\\', \\'3459715\\', \\'112\\', \\'dart3.xsd\\');}\\n\\t\\t\\t}\\n\\t\\t});\\n\\t\\tcnt++;\\n\\t\\t\\t\\n\\t\\ttreeNode1.appendChild(treeNode2);\\n\\t\\t\\n\\t\\ttreeNode2 = new Tree.TreeNode({\\n\\t\\t\\ttext: \"2. 전문가와의 이해관계\",\\n\\t\\t\\tid: \"33\",\\n\\t\\t\\tcls: \"text\",\\n\\t\\t\\tlisteners: {\\n\\t\\t\\t\\tclick: function() {viewDoc(\\'20201116001248\\', \\'7549051\\', \\'33\\', \\'3459831\\', \\'115\\', \\'dart3.xsd\\');}\\n\\t\\t\\t}\\n\\t\\t});\\n\\t\\tcnt++;\\n\\t\\t\\t\\n\\t\\ttreeNode1.appendChild(treeNode2);\\n\\t\\t\\n\\t\\ttreeRoot.appendChild(treeNode1);\\n\\t\\t\\n\\t\\n\\n\\twest.setRootNode(treeRoot);\\n\\n\\tvar viewport = new Ext.Viewport({\\n\\t     layout:\\'border\\',\\n\\t     items:[\\n\\t     \\tnorth,\\n\\t     \\twest,\\n\\t     \\tnew Ext.Panel({\\n\\t             region:\\'center\\',\\n\\t             id:\\'center-panel\\',\\n\\t             margins:\\'5 5 5 5\\',\\n\\t             autoScroll:false,\\n\\t             items: [{\\n\\t                 contentEl: \\'center\\',\\n\\t                 border:false,\\n\\t                 autoScroll:false\\n\\t             }]\\n\\t         })\\n\\t      ]\\n\\t });\\n\\n\\n\\n\\tif (cnt > 200) {\\n\\t\\ttreeRoot.expand();\\n\\t} else {\\n\\t\\twest.expandAll();\\n\\t}\\n\\n\\t $j(\"#center-panel > div > div\").resize(resizeFrame);\\n\\t resizeFrame();\\n\\n\\n\\t\\n\\t\\n\\t\\tviewDoc(\\'20201116001248\\', \\'7549051\\', \\'1\\', \\'670\\', \\'4090\\', \\'dart3.xsd\\');\\n\\t\\n\\t\\n\\n\\n\\n\\n//팝업 순서\\n//1.정정 관련 보고서\\n//2.핵심투자 관련 보고서\\n\\n\\n\\t\\n\\t\\n\\t\\n\\t\\n\\t\\n\\n\\nalertInvestNotice(\\'20201116001248\\', \\'7549051\\', \\'20201116001119\\', \\'0\\', \\'11013\\' ,\\'dart3.xsd\\');\\nalertSmallPublicOffering(\\'N\\');\\n\\n\\n\\n\\n\\n\\n\\twindow.focus();\\n\\n\\ttry {\\n\\t\\topener.loadHistoryContents();\\n\\t} catch (e) {\\n\\t\\t;\\n\\t}\\n}\\n\\nvar currentDocValues = {rcpNo: \"\", dcmNo: \"\", eleId: \"\", offset: \"\", length: \"\", dtd: \"\"};\\n\\nfunction replaceHtml(el, html) {\\n\\tvar oldEl = (typeof el === \"string\" ? document.getElementById(el) : el);\\n\\t/*@cc_on // Pure innerHTML is slightly faster in IE\\n\\t\\toldEl.innerHTML = html;\\n\\t\\treturn oldEl;\\n\\t@*/\\n\\tvar newEl = oldEl.cloneNode(false);\\n\\tnewEl.innerHTML = html;\\n\\toldEl.parentNode.replaceChild(newEl, oldEl);\\n\\t/* Since we just removed the old element from the DOM, return a reference\\n\\tto the new element, which can be used to restore variable references. */\\n\\treturn newEl;\\n};\\n\\nfunction viewDoc(rcpNo, dcmNo, eleId, offset, length, dtd) {\\n\\tcurrentDocValues.rcpNo = rcpNo;\\n\\tcurrentDocValues.dcmNo = dcmNo;\\n\\tcurrentDocValues.eleId = eleId;\\n\\tcurrentDocValues.offset = offset;\\n\\tcurrentDocValues.length = length;\\n\\tcurrentDocValues.dtd = dtd;\\n\\tvar params = \"\";\\n\\tparams += \"?rcpNo=\" + rcpNo;\\n\\tparams += \"&dcmNo=\" + dcmNo;\\n\\tif (eleId != null)\\n\\t\\tparams += \"&eleId=\" + eleId;\\n\\tif (offset != null)\\n\\t\\tparams += \"&offset=\" + offset;\\n\\tif (length != null)\\n\\t\\tparams += \"&length=\" + length;\\n\\tparams += \"&dtd=\" + dtd;\\n\\tdocument.getElementById(\"ifrm\").src = \"/report/viewer.do\" + params;\\n}\\n\\nfunction printDoc() {\\n\\tifrm.focus();\\n\\twindow.print();\\n}\\n\\nfunction reloadDoc() {\\n\\tviewDoc(currentDocValues.rcpNo, currentDocValues.dcmNo, currentDocValues.eleId, currentDocValues.offset, currentDocValues.length, currentDocValues.dtd);\\n}\\n\\nfunction changeDoc(val) {\\n//\\twindow.location.replace(\"/dsaf001/main.do?\" + val);\\n//\\talert(\"/dsaf001/main.do?\" + val);\\n\\tdocument.fmove.action=\"/dsaf001/main.do?\" + val;\\n\\tdocument.fmove.submit();\\n}\\n\\nfunction changeFamily(val) {\\n\\tif (val==\"null\") return;\\n\\tchangeDoc(val);\\n\\t$j(\"#att\").val(\"null\");\\n\\t$j(\"#ref\").val(\"null\");\\n}\\n\\nfunction changeRef(val) {\\n\\tif (val==\"null\") return;\\n\\tchangeDoc(val);\\n\\t$j(\"#att\").val(\"null\");\\n\\t$j(\"#family\").val(\"null\");\\n}\\n\\nfunction changeAtt(val) {\\n\\tif (val==\"null\") return;\\n\\tchangeDoc(val);\\n\\t$j(\"#ref\").val(\"null\");\\n\\t$j(\"#family\").val(\"null\");\\n}\\n\\n/**\\n * PDF 다운로드 : 서비스 중지 메시지 보이기\\n */\\nfunction openPdfDownload(rcpNo, dcmNo) {\\n\\t \\n\\t\\t\\n\\t\\tvar size = getOpenSize(530, 480);\\n\\t\\tvar url = \"/pdf/download/main.do?rcp_no=\" + rcpNo + \"&dcm_no=\" + dcmNo;\\n\\t\\tvar win = window.open( url, \\'DOWNLOAD\\', \\'\\'+size+\\', resizable=no, status=no, scrollbars=yes\\');\\n\\t\\tif(win == null){\\n\\t\\t\\talert(\"팝업차단을 해제해주세요.\");\\n\\t\\t}else{\\n\\t\\t\\twin.focus();\\n\\t\\t}\\n\\t\\t\\n\\t\\t\\n\\t\\n}\\n\\n/**\\n * 사용자가 \\'예\\'를 선택했을 때 최종문서로 이동한다.\\n */\\nfunction confirmFinalDoc(bnt){\\n\\n\\tvar rcp_no = \"\" ;\\n\\tif(bnt==\\'yes\\'){\\n\\t\\t\\n\\t\\t\\t\\n\\t\\t\\t\\tif(rcp_no == \"\"){\\n\\t\\t\\t\\t\\trcp_no = 20201116001248;\\n\\t\\t\\t\\t}\\n\\t\\t\\t\\n\\t\\t\\n\\t\\tchangeFamily(\"rcpNo=\"+rcp_no);\\n\\t}\\n}\\n\\nfunction scrapFeed(cik) {\\n    var rssValue = \"\";\\n    if(cik == \"today\"){\\n    \\trssValue = \"http://dart.fss.or.kr/api/todayRSS.xml\";\\n    }\\n    else{\\n    \\trssValue = \"http://dart.fss.or.kr/api/companyRSS.xml?crpCd=\" + cik;\\n    }\\n\\n    if(window.clipboardData){  // IE처리\\n    \\tif (window.clipboardData.setData(\"Text\", rssValue)) {\\n        \\talert(\\'클립보드에 복사되었습니다\\');\\n    \\t}\\n    }\\n    else {                     // 비IE 처리\\n    \\twindow.prompt (\"Ctrl+C를 눌러 클립보드로 복사하세요\", rssValue);\\n    }\\n}\\n\\n\\t</script>\\n</head>\\n\\t<body class=\"viewer\">\\n\\t\\t<form name=\"fmove\"  method=\"post\" action=\"\">\\n\\t\\t<input type=\"submit\" style=\"display:none\" name=\"goAction\" />\\n\\t\\t</form>\\n\\t\\t<div id=\"north\" class=\"header\" style=\"width:1024px;\"> <!--  -->\\n\\t\\t\\t <div class=\"view_tit\">\\n\\t\\t\\t\\t <p class=\"view_logo\">\\n\\t\\t\\t\\t \\t<img src=\"/images/common/viewer_logo.gif\" alt=\"DART\" />\\n\\t\\t\\t \\t</p>\\n\\t             <p> <!--  class=\"viewTitle\" -->\\n\\t\\t\\t\\t\\t\\t<!-- 회사명 표시  : 시장구분 이미지 : 회사명 : IR연결 아이콘-->\\n\\t\\t\\t\\t\\t\\n\\t\\t\\t\\t\\t\\t\\n\\t\\t\\t\\t\\t\\t\\t<img src=\"/images/pop/ico_kospi.gif\"  alt=\"코스피\" />\\n\\t\\t\\t\\t\\t\\t\\n\\t\\t\\t\\t\\t\\t\\n\\t\\t\\t\\t\\t\\t\\n\\t\\t\\t\\t\\t\\t\\n\\t\\t\\t\\t\\t\\n\\t\\t\\t\\t\\t\\n\\t\\t\\t\\t\\t\\n\\t\\t\\t\\t\\t\\t\\t\\t\\n\\t\\t\\t\\t\\t  <a href=\"#companyview\" style=\"cursor:pointer;\" title=\"삼성전자\" onclick=\"openCorpInfo(\\'00126380\\');return false;\">삼성전자</a><!-- 스타일 수정필요.  -->\\n\\n             \\t </p>\\n\\t        </div>\\n\\t\\t\\t<div class=\"view_search\">\\n\\t\\t\\t\\t\\t\\t<!-- 본문선택 -->\\n\\t\\t\\t\\t<!-- <form method=\"\" action=\"\"> -->\\n\\t\\t\\t\\t<fieldset>\\n                <legend>공시뷰어 검색</legend>\\n                <p>\\n\\t\\t\\t\\t\\t\\n\\t\\t\\t\\t\\t\\t<label for=\"family\">본문</label>\\n\\t\\t\\t\\t\\t\\t<select id=\"family\" onchange=\"changeFamily(this.value)\">\\n\\t\\t\\t\\t\\t\\t\\t<option value=\"null\">\\n\\t\\t\\t\\t\\t\\t\\t\\t+본문선택+\\n\\t\\t\\t\\t\\t\\t\\t</option>\\n\\t\\t\\t\\t\\t\\t\\t\\n\\t\\t\\t\\t\\t\\t\\t\\t\\n\\t\\t\\t\\t\\t\\t\\t\\t<option value=\"rcpNo=20201116001248\" selected title=\"분기보고서\">\\n\\t\\t\\t\\t\\t\\t\\t\\t\\t\\n\\t\\t\\t\\t\\t\\t\\t\\t\\t\\t2020.11.16&nbsp;\\n\\t\\t\\t\\t\\t\\t\\t\\t\\t\\n\\t\\t\\t\\t\\t\\t\\t\\t\\t\\n\\t\\t\\t\\t\\t\\t\\t\\t\\t분기보고서\\n\\t\\t\\t\\t\\t\\t\\t\\t</option>\\n\\t\\t\\t\\t\\t\\t\\t\\n\\t\\t\\t\\t\\t\\t</select>\\n\\t\\t\\t\\t\\t\\n\\n\\t\\t\\t\\t\\t\\n\\t\\t\\t\\t</p>\\n\\t\\t\\t\\t<p class=\"f_none\">\\n\\t\\t\\t\\t\\t\\t<!-- 첨부문서 -->\\n\\t\\t\\t\\t\\t\\t<label for=\"att\">첨부</label>\\n\\t\\t\\t\\t\\t\\t<select id=\"att\" class=\"with\" onchange=\"changeAtt(this.value)\">\\n\\t\\t\\t\\t\\t\\t\\t<option value=\"null\">\\n\\t\\t\\t\\t\\t\\t\\t\\t+첨부선택+\\n\\t\\t\\t\\t\\t\\t\\t</option>\\n\\t\\t\\t\\t\\t\\t\\t\\n\\t\\t\\t\\t\\t\\t\\t\\t\\n\\t\\t\\t\\t\\t\\t\\t\\t<option value=\"rcpNo=20201116001248&amp;dcmNo=7549053\" >\\n\\t\\t\\t\\t\\t\\t\\t\\t\\t\\n\\t\\t\\t\\t\\t\\t\\t\\t\\t2020.11.16&nbsp;\\n\\t\\t\\t\\t\\t\\t\\t\\t\\t\\n\\t\\t\\t\\t\\t\\t\\t\\t\\t\\t\\n\\t\\t\\t\\t\\t\\t\\t\\t\\t\\t\\n\\t\\t\\t\\t\\t\\t\\t\\t\\t\\n\\t\\t\\t\\t\\t\\t\\t\\t\\t분기검토보고서\\n\\t\\t\\t\\t\\t\\t\\t\\t</option>\\n\\t\\t\\t\\t\\t\\t\\t\\n\\t\\t\\t\\t\\t\\t\\t\\t\\n\\t\\t\\t\\t\\t\\t\\t\\t<option value=\"rcpNo=20201116001248&amp;dcmNo=7549054\" >\\n\\t\\t\\t\\t\\t\\t\\t\\t\\t\\n\\t\\t\\t\\t\\t\\t\\t\\t\\t2020.11.16&nbsp;\\n\\t\\t\\t\\t\\t\\t\\t\\t\\t\\n\\t\\t\\t\\t\\t\\t\\t\\t\\t\\t\\n\\t\\t\\t\\t\\t\\t\\t\\t\\t\\t\\n\\t\\t\\t\\t\\t\\t\\t\\t\\t\\n\\t\\t\\t\\t\\t\\t\\t\\t\\t분기연결검토보고서\\n\\t\\t\\t\\t\\t\\t\\t\\t</option>\\n\\t\\t\\t\\t\\t\\t\\t\\n\\t\\t\\t\\t\\t\\t</select>\\n\\t\\t\\t\\t</p>\\n\\t\\t\\t</fieldset>\\n\\t\\t\\t<!-- </form> -->\\n\\t\\t\\t<ul><!-- 버튼 : 이미지보기, 다운로드, 인쇄, 검색결과로  -->\\n\\t\\t\\t\\t\\n\\t\\t\\t\\t<li>\\n\\t\\t\\t\\t\\t<a href=\"#download\" onclick=\"openPdfDownload(\\'20201116001248\\', \\'7549051\\'); return false;\" ><img src=\"/images/common/viewer_down.gif\" style=\"cursor:pointer;\" alt=\"다운로드\" title=\"다운로드\" /></a>\\n\\t\\t\\t\\t</li>\\n\\t\\t\\t\\t\\n\\t\\t\\t\\t<li>\\n\\t\\t\\t\\t\\t<a href=\"#priter\" onclick=\"printDoc(); return false;\"><img  src=\"/images/common/viewer_print.gif\" style=\"cursor:pointer;\" title=\"인쇄\" alt=\"인쇄\" /></a>\\n\\t\\t\\t\\t</li>\\n\\n\\t\\t\\t\\t<li>\\n\\t\\t\\t\\t\\t<a href=\"#close\" onclick=\"window.close();\"><img  src=\"/images/common/viewer_result.gif\" style=\"cursor:pointer;\" title=\"검색결과로\" alt=\"검색결과로\" /></a>\\n\\t\\t\\t\\t</li>\\n\\t\\t\\t</ul>\\n\\t\\t</div>\\n\\t</div><!-- end of header -->\\n\\t<div id=\"center\">\\n\\t\\t\\n\\t\\t<div id=\"mobileScroll\">\\n\\t\\t\\t<iframe id=\"ifrm\" frameborder=\"0\" scrolling=\"auto\" style=\"width: 100%;margin: 0; padding: 0\" title=\"tailFrame\"></iframe>\\n\\t\\t</div>\\n\\t</div>\\n\\t<div id=\"pdfStopMsg\" style=\"position: absolute; left: -1000px; top: -1000px; visibility: hidden;\"></div>\\n\\n\\t\\n<script type=\"text/javascript\">\\nfunction openReportViewerEng(rcpNo, dcmNo){\\n\\tvar url = \"/dsbh001/main.do?rcpNo=\" + rcpNo;\\n\\tif (dcmNo) {\\n\\t\\t//<![CDATA[\\n\\t\\turl += \"&dcmNo=\" + dcmNo;\\n\\t\\t//]]>\\n\\t}\\n\\n\\tvar size = getOpenSize(1024, 768);\\n\\twindow.open(url, rcpNo, size+\",resizable=yes\");\\n\\t$j(\"#r_\"+rcpNo).css(\"color\",\"#cd0093\");\\n}\\n\\nvar win_num = 1;\\nfunction openReportViewer(rcpNo, dcmNo){\\n\\tvar url = \"/dsaf001/main.do?rcpNo=\" + rcpNo;\\n\\tif (dcmNo) {\\n\\t\\t//<![CDATA[\\n\\t\\turl += \"&dcmNo=\" + dcmNo;\\n\\t\\t//]]>\\n\\t}\\n\\n\\tvar size = getOpenSize(1024, 768);\\n\\twindow.open(url, rcpNo+win_num, size+\",resizable=yes\");\\n\\twin_num++;\\n\\tif (dcmNo) {\\n\\t\\t$j(\"#r_\"+rcpNo+dcmNo).css(\"color\",\"#cd0093\");\\n\\t}else{\\n\\t\\t$j(\"#r_\"+rcpNo).css(\"color\",\"#cd0093\");\\n\\t}\\n}\\n\\n/*\\n * 통합검색용 문서뷰어 팝업 호출\\n * nrseo 2010. 10. 20\\n * 2016.09.30 jsp에 직접 명시 하여 미사용(DSAB007A.jsp)\\n * - a:visited 미작동으로 인한 조치\\n */\\nfunction openReportViewerKeyword(rcpNo, dcmNo, keyword){\\n\\tvar url = \"/dsaf001/main.do?rcpNo=\" + rcpNo;\\n\\tif (dcmNo) {\\n\\t\\t//<![CDATA[\\n\\t\\turl += \"&dcmNo=\" + dcmNo;\\n\\t\\t//]]>\\n\\t}\\n\\t//<![CDATA[\\n\\turl += \"&keyword=\" + encodeURIComponent(keyword);\\n\\t//]]>\\n\\n\\tvar size = getOpenSize(1024, 768);\\n\\twindow.open(url, rcpNo+win_num, size+\",resizable=yes\");\\n\\twin_num++;\\n\\tif (dcmNo) {\\n\\t\\t$j(\"#r_\"+rcpNo+dcmNo).css(\"color\",\"#cd0093\");\\n\\t}else{\\n\\t\\t$j(\"#r_\"+rcpNo).css(\"color\",\"#cd0093\");\\n\\t}\\n}\\n\\n/*\\n * 메인화면 전용\\n */\\nfunction openReportViewerMain(rcpNo, dcmNo){\\n\\tvar url = \"/dsaf001/main.do?rcpNo=\" + rcpNo;\\n\\tif (dcmNo) {\\n\\t\\t//<![CDATA[\\n\\t\\turl += \"&dcmNo=\" + dcmNo;\\n\\t\\t//]]>\\n\\t}\\n\\n\\tvar size = getOpenSize(1024, 768);\\n\\twindow.open(url, rcpNo+win_num, size+\",resizable=yes\");\\n\\twin_num++;\\n}\\n\\nfunction openXbrlViewer(rcpNo, dcmNo){\\n\\tvar url = \"/dsbh002/main.do?rcpNo=\" + rcpNo;\\n\\tif (dcmNo) {\\n\\t\\t//<![CDATA[\\n\\t\\turl += \"&dcmNo=\" + dcmNo;\\n\\t\\t//]]>\\n\\t}\\n\\n\\tvar size = getOpenSize(1024, 768);\\n\\twindow.open(url, rcpNo+win_num, size+\",resizable=yes\");\\n\\twin_num++;\\n\\t/* j(\"#r_\"+rcpNo)가\\n\\t   ie8,9,11에서 클릭시 css변경 미처리로 위치 변경\\n\\t   ie10 버전에서 미작동으로 본문에 직접 반영(DSBD001A.jsp, DSBD002A.jsp)\\t */\\n\\t//$j(\"#r_\"+rcpNo).css(\"color\",\"#cd0093\");\\n}\\n\\nfunction openHelp(menu) {\\n\\tvar url = \"/guide/main.jsp\";\\n\\tif (menu) {\\n\\t\\turl += \"?menu=\" + menu;\\n\\t}\\n\\tvar size = getOpenSize(800, 760);\\n\\tvar win = window.open(url, \"DartGuide\", size + \",resizable=0,scrollbars=0\");\\n\\tif (win == null) {\\n\\t\\talert(\"팝업차단을 해제하시기 바랍니다.\");\\n\\t} else {\\n\\t\\twin.focus();\\n\\t}\\n}\\n\\n</script>\\n<form name=\"reportForm\" method=\"post\" action=\"/dsaf001/main.do\">\\n\\t<input type=\"hidden\" name=\"rcpNo\" />\\n\\t<input type=\"hidden\" name=\"dcmNo\" />\\n\\t<input type=\"hidden\" name=\"keyword\" />\\n\\t<input type=\"submit\" style=\"display:none;\" />\\n</form>\\n\\n</body>\\n</html>\\n'"
      ]
     },
     "execution_count": 52,
     "metadata": {},
     "output_type": "execute_result"
    }
   ],
   "source": [
    "resp_decode = resp.content.decode('UTF-8')\n",
    "resp_decode"
   ]
  },
  {
   "cell_type": "code",
   "execution_count": 47,
   "metadata": {},
   "outputs": [],
   "source": [
    "rcp_no = '20201116001248'"
   ]
  },
  {
   "cell_type": "code",
   "execution_count": 48,
   "metadata": {},
   "outputs": [],
   "source": [
    "rcp_dcm =\"', '\""
   ]
  },
  {
   "cell_type": "code",
   "execution_count": 49,
   "metadata": {},
   "outputs": [
    {
     "data": {
      "text/plain": [
       "\"20201116001248', '\""
      ]
     },
     "execution_count": 49,
     "metadata": {},
     "output_type": "execute_result"
    }
   ],
   "source": [
    "rcp_no + rcp_dcm"
   ]
  },
  {
   "cell_type": "code",
   "execution_count": 55,
   "metadata": {},
   "outputs": [
    {
     "data": {
      "text/plain": [
       "'7549051'"
      ]
     },
     "execution_count": 55,
     "metadata": {},
     "output_type": "execute_result"
    }
   ],
   "source": [
    "import re\n",
    "re.findall(r\"20201116001248', '(.*?)',\", resp_decode)[0]"
   ]
  },
  {
   "cell_type": "code",
   "execution_count": 60,
   "metadata": {},
   "outputs": [
    {
     "data": {
      "text/plain": [
       "'7549051'"
      ]
     },
     "execution_count": 60,
     "metadata": {},
     "output_type": "execute_result"
    }
   ],
   "source": [
    "re.findall(r\"'20201116001248', '(.*?)',\", resp_decode)[0]"
   ]
  },
  {
   "cell_type": "code",
   "execution_count": 61,
   "metadata": {},
   "outputs": [
    {
     "ename": "NameError",
     "evalue": "name 'rrcp_no' is not defined",
     "output_type": "error",
     "traceback": [
      "\u001b[1;31m---------------------------------------------------------------------------\u001b[0m",
      "\u001b[1;31mNameError\u001b[0m                                 Traceback (most recent call last)",
      "\u001b[1;32m<ipython-input-61-96ff34443d03>\u001b[0m in \u001b[0;36m<module>\u001b[1;34m\u001b[0m\n\u001b[1;32m----> 1\u001b[1;33m \u001b[0mre\u001b[0m\u001b[1;33m.\u001b[0m\u001b[0mfindall\u001b[0m\u001b[1;33m(\u001b[0m\u001b[0mrrcp_no\u001b[0m\u001b[1;33m+\u001b[0m\u001b[1;34m\", '(.*?)',\"\u001b[0m\u001b[1;33m,\u001b[0m \u001b[0mresp_decode\u001b[0m\u001b[1;33m)\u001b[0m\u001b[1;33m[\u001b[0m\u001b[1;36m0\u001b[0m\u001b[1;33m]\u001b[0m\u001b[1;33m\u001b[0m\u001b[1;33m\u001b[0m\u001b[0m\n\u001b[0m",
      "\u001b[1;31mNameError\u001b[0m: name 'rrcp_no' is not defined"
     ]
    }
   ],
   "source": [
    "re.findall(rrcp_no+\", '(.*?)',\", resp_decode)[0]"
   ]
  },
  {
   "cell_type": "code",
   "execution_count": null,
   "metadata": {},
   "outputs": [],
   "source": []
  }
 ],
 "metadata": {
  "kernelspec": {
   "display_name": "Python 3",
   "language": "python",
   "name": "python3"
  },
  "language_info": {
   "codemirror_mode": {
    "name": "ipython",
    "version": 3
   },
   "file_extension": ".py",
   "mimetype": "text/x-python",
   "name": "python",
   "nbconvert_exporter": "python",
   "pygments_lexer": "ipython3",
   "version": "3.7.6"
  }
 },
 "nbformat": 4,
 "nbformat_minor": 4
}
