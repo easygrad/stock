{
 "cells": [
  {
   "cell_type": "code",
   "execution_count": 1,
   "metadata": {},
   "outputs": [],
   "source": [
    "# 이제 전부 통합\n",
    "\n",
    "#1 다트에서 파일을 가져오려면 기업명, 기간 등을 입력하고 \n",
    "# 그 결과로 재무제표 파일을 가져올 수 있는 함수를 만들어야 함.\n",
    "\n",
    "#2 함수에 필요한 것들 중 파일을 불러올 수 있으려면 rcp, dcm 등이 필요\n",
    "\n",
    "#3 기업코드도 불러올 수 있어야 함"
   ]
  },
  {
   "cell_type": "code",
   "execution_count": 7,
   "metadata": {},
   "outputs": [],
   "source": [
    "#1\n",
    "\n",
    "import requests\n",
    "import pandas as pd\n",
    "from io import BytesIO\n",
    "\n",
    "def dart_download_excel(company, period, rcp, dcm):\n",
    "    user_agent = 'Mozilla/5.0 (Windows NT 10.0; Win64; x64) AppleWebKit/537.36 (KHTML, like Gecko) Chrome/87.0.4280.67 Safari/537.36 Edg/87.0.664.47'\n",
    "    headers = {'user-agent' : user_agent}\n",
    "    \n",
    "    for i in range(min(len(period), len(rcp), len(dcm))):\n",
    "        url_rcpdcm = 'http://dart.fss.or.kr/pdf/download/excel.do?rcp_no='+rcp[i]+'&dcm_no='+dcm[i]+'&lang=ko'\n",
    "        sheets = ['연결 재무상태표', '연결 손익계산서', '연결 포괄손익계산서']\n",
    "        # sheets의 경우 지금은 이렇게 하지만 나중엔 어떤 sheet가 있는지도 알아낼 수 있어야 할 것 같음\n",
    "        \n",
    "        for sheet in sheets:\n",
    "            resp_rcp = requests.get(url_rcpdcm, headers = headers)\n",
    "            output = BytesIO(resp_rcpdcm.content)\n",
    "            \n",
    "            table = pd.read_excel(output, sheet_name = sheet, skiprows = 5)\n",
    "            table.to_csv(period[i]+company+sheet+\".csv\", encoding = 'euc-kr')"
   ]
  },
  {
   "cell_type": "code",
   "execution_count": 96,
   "metadata": {},
   "outputs": [],
   "source": [
    "#2\n",
    "\n",
    "import requests\n",
    "import pandas as pd\n",
    "from io import BytesIO\n",
    "import re\n",
    "\n",
    "def find_info(corp_code):\n",
    "\n",
    "    api_key = '7d523a1a3ce98201eb9eeb5c04c206363c176810'\n",
    "    url = 'https://opendart.fss.or.kr/api/list.xml?crtfc_key={}&corp_code={}&bgn_de=19990101&last_reprt_at=N&pblntf_detail_ty=A001&pblntf_detail_ty=A002&pblntf_detail_ty=A003&page_count=40'.format(api_key, corp_code)\n",
    "    user_agent = 'Mozilla/5.0 (Windows NT 10.0; Win64; x64) AppleWebKit/537.36 (KHTML, like Gecko) Chrome/87.0.4280.67 Safari/537.36 Edg/87.0.664.47'\n",
    "    headers = {'user-agent' : user_agent}\n",
    "\n",
    "    resp = requests.get(url)\n",
    "    resp_decode = resp.content.decode('utf-8')\n",
    "\n",
    "    period = re.findall(r'<report_nm>(.*?)</report_nm>', resp_decode)\n",
    "    rcp = re.findall(r'<rcept_no>(.*?)</rcept_no>', resp_decode)\n",
    "    # <report_nm> 이런건 미리 해보고 알 수 있는 것들\n",
    "    # company는 아직... 좀 더 해보고...\n",
    "    \n",
    "\n",
    "    dcm = []\n",
    "\n",
    "    for i in range(len(rcp)):\n",
    "        url_rcp = 'http://dart.fss.or.kr/dsaf001/main.do?rcpNo=' + rcp[i]\n",
    "        resp_rcp = requests.get(url_rcp, headers = headers)\n",
    "        resp_rcp_decode = resp_rcp.content.decode('utf-8')\n",
    "        dcm_i = re.findall(rcp[i]+\"', '(.*?)',\", resp_rcp_decode)[0]\n",
    "        dcm = dcm + [dcm_i]\n",
    "        \n",
    "    return dict(zip(zip(period,rcp),dcm))\n",
    "    \n",
    "def dart_download_excel(company, period, rcp, dcm):\n",
    "    \n",
    "    for i in range(min(len(period), len(rcp), len(dcm))):\n",
    "        url_rcpdcm = 'http://dart.fss.or.kr/pdf/download/excel.do?rcp_no='+rcp[i]+'&dcm_no='+dcm[i]+'&lang=ko'\n",
    "        sheets = ['연결 재무상태표', '연결 손익계산서', '연결 포괄손익계산서']\n",
    "        # sheets의 경우 지금은 이렇게 하지만 나중엔 어떤 sheet가 있는지도 알아낼 수 있어야 할 것 같음\n",
    "        \n",
    "        resp_rcpdcm = requests.get(url_rcpdcm, headers = headers)\n",
    "       \n",
    "        for sheet in sheets:\n",
    "            output = BytesIO(resp_rcpdcm.content)\n",
    "            table = pd.read_excel(output, sheet_name = sheet, skiprows = 5)\n",
    "            table.to_csv(period[i]+company+sheet+\".csv\", encoding = 'euc-kr')"
   ]
  },
  {
   "cell_type": "code",
   "execution_count": 97,
   "metadata": {},
   "outputs": [
    {
     "data": {
      "text/plain": [
       "{('분기보고서 (2020.09)', '20201116001248'): '7549051',\n",
       " ('반기보고서 (2020.06)', '20200814001766'): '7446167',\n",
       " ('분기보고서 (2020.03)', '20200515001451'): '7341446',\n",
       " ('사업보고서 (2019.12)', '20200330003851'): '7202455',\n",
       " ('분기보고서 (2019.09)', '20191114001273'): '6958001',\n",
       " ('반기보고서 (2019.06)', '20190814002218'): '6846651',\n",
       " ('분기보고서 (2019.03)', '20190515001605'): '6738798',\n",
       " ('사업보고서 (2018.12)', '20190401004781'): '6616741',\n",
       " ('분기보고서 (2018.09)', '20181114001530'): '6382016',\n",
       " ('반기보고서 (2018.06)', '20180814001113'): '6282263',\n",
       " ('분기보고서 (2018.03)', '20180515001699'): '6180129',\n",
       " ('사업보고서 (2017.12)', '20180402005019'): '6060273',\n",
       " ('분기보고서 (2017.09)', '20171114001694'): '5845320',\n",
       " ('반기보고서 (2017.06)', '20170814001832'): '5752868',\n",
       " ('분기보고서 (2017.03)', '20170515003806'): '5653406',\n",
       " ('사업보고서 (2016.12)', '20170331004518'): '5540271',\n",
       " ('분기보고서 (2016.09)', '20161114001491'): '5349987',\n",
       " ('반기보고서 (2016.06)', '20160816001779'): '5261457',\n",
       " ('분기보고서 (2016.03)', '20160516003174'): '5146351',\n",
       " ('사업보고서 (2015.12)', '20160330003536'): '5026126',\n",
       " ('분기보고서 (2015.09)', '20151116000976'): '4854164',\n",
       " ('반기보고서 (2015.06)', '20150817000859'): '4770098',\n",
       " ('분기보고서 (2015.03)', '20150515001379'): '4669876',\n",
       " ('사업보고서 (2014.12)', '20150331002915'): '4556583',\n",
       " ('분기보고서 (2014.09)', '20141114000755'): '4384460',\n",
       " ('반기보고서 (2014.06)', '20140814000743'): '4299541',\n",
       " ('분기보고서 (2014.03)', '20140515001057'): '4215971',\n",
       " ('사업보고서 (2013.12)', '20140331002427'): '4114631',\n",
       " ('분기보고서 (2013.09)', '20131114000520'): '3952512',\n",
       " ('반기보고서 (2013.06)', '20130814000618'): '3875930',\n",
       " ('분기보고서 (2013.03)', '20130515000677'): '3803552',\n",
       " ('사업보고서 (2012.12)', '20130401003031'): '3714646',\n",
       " ('분기보고서 (2012.09)', '20121114000975'): '3560249',\n",
       " ('반기보고서 (2012.06)', '20120814001232'): '3493599',\n",
       " ('[첨부추가]사업보고서 (2011.12)', '20120330002110'): '3332300',\n",
       " ('분기보고서 (2012.03)', '20120515001281'): '3422441',\n",
       " ('분기보고서 (2011.09)', '20111129000501'): '3207134',\n",
       " ('[기재정정]반기보고서 (2011.06)', '20110916000072'): '3151930',\n",
       " ('반기보고서 (2011.06)', '20110829000539'): '3138683',\n",
       " ('[첨부추가]사업보고서 (2010.12)', '20110331002193'): '2965731'}"
      ]
     },
     "execution_count": 97,
     "metadata": {},
     "output_type": "execute_result"
    }
   ],
   "source": [
    "find_info('00126380')"
   ]
  },
  {
   "cell_type": "code",
   "execution_count": 79,
   "metadata": {},
   "outputs": [],
   "source": [
    "#3\n",
    "\n",
    "import requests\n",
    "import pandas as pd\n",
    "from io import BytesIO\n",
    "import re\n",
    "from zipfile import ZipFile\n",
    "import xmltodict\n",
    "import json\n",
    "\n",
    "api_key = '7d523a1a3ce98201eb9eeb5c04c206363c176810'\n",
    "\n",
    "def find_corp_code(corp_name):\n",
    "\n",
    "    url_corp = 'https://opendart.fss.or.kr/api/corpCode.xml?crtfc_key={}'.format(api_key)\n",
    "    resp_corp = requests.get(url_corp)\n",
    "\n",
    "    zf_corp = ZipFile(BytesIO(resp_corp.content))\n",
    "    zf_corp_name = zf_corp.namelist()\n",
    "    zf_corp_name_pop = zf_corp_name.pop()\n",
    "\n",
    "    data_xml = zf_corp.read(zf_corp_name_pop).decode('utf-8')\n",
    "    data_odict = xmltodict.parse(data_xml)\n",
    "    data_dict = json.loads(json.dumps(data_odict))\n",
    "    data = data_dict.get('result', {}).get('list')\n",
    "\n",
    "    where_name = (item for item in data if item['corp_name'] == corp_name)\n",
    "    # corp_name 이 corp_name인 dict를 list에서 가져오기\n",
    "    # 만약 값이 없을 경우 false가 dict에 저장됨\n",
    "    dict_name = next(where_name, False)\n",
    "    corp_code = dict_name['corp_code']\n",
    "    \n",
    "    return corp_code"
   ]
  },
  {
   "cell_type": "code",
   "execution_count": 91,
   "metadata": {},
   "outputs": [
    {
     "data": {
      "text/plain": [
       "'00918444'"
      ]
     },
     "execution_count": 91,
     "metadata": {},
     "output_type": "execute_result"
    }
   ],
   "source": [
    "find_corp_code('카카오')"
   ]
  },
  {
   "cell_type": "code",
   "execution_count": null,
   "metadata": {},
   "outputs": [],
   "source": []
  }
 ],
 "metadata": {
  "kernelspec": {
   "display_name": "Python 3",
   "language": "python",
   "name": "python3"
  },
  "language_info": {
   "codemirror_mode": {
    "name": "ipython",
    "version": 3
   },
   "file_extension": ".py",
   "mimetype": "text/x-python",
   "name": "python",
   "nbconvert_exporter": "python",
   "pygments_lexer": "ipython3",
   "version": "3.7.6"
  }
 },
 "nbformat": 4,
 "nbformat_minor": 4
}
