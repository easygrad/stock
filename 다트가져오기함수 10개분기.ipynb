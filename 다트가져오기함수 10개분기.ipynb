{
 "cells": [
  {
   "cell_type": "code",
   "execution_count": 1,
   "metadata": {},
   "outputs": [],
   "source": [
    "# 기업명으로 10개분기 재무제표 다운로드: page_count = 10(디폴트값) 임\n",
    "\n",
    "import requests\n",
    "import pandas as pd\n",
    "from io import BytesIO\n",
    "import re\n",
    "from zipfile import ZipFile\n",
    "import xmltodict\n",
    "import json\n",
    "\n",
    "def dload_dart_10q(corp_name):\n",
    "    api_key = '7d523a1a3ce98201eb9eeb5c04c206363c176810'\n",
    "    url_corp = 'https://opendart.fss.or.kr/api/corpCode.xml?crtfc_key={}'.format(api_key)\n",
    "    resp_corp = requests.get(url_corp)\n",
    "\n",
    "    zf_corp = ZipFile(BytesIO(resp_corp.content))\n",
    "    zf_corp_name = zf_corp.namelist()\n",
    "    zf_corp_name_pop = zf_corp_name.pop()\n",
    "\n",
    "    data_xml = zf_corp.read(zf_corp_name_pop).decode('utf-8')\n",
    "    data_odict = xmltodict.parse(data_xml)\n",
    "    data_dict = json.loads(json.dumps(data_odict))\n",
    "    data = data_dict.get('result', {}).get('list')\n",
    "\n",
    "    where_name = (item for item in data if item['corp_name'] == corp_name)\n",
    "    # corp_name 이 corp_name인 dict를 list에서 가져오기\n",
    "    # 만약 값이 없을 경우 false가 dict에 저장됨\n",
    "    dict_name = next(where_name, False)\n",
    "    corp_code = dict_name['corp_code']\n",
    "\n",
    "    print(corp_code)\n",
    "    \n",
    "    url_info = 'https://opendart.fss.or.kr/api/list.xml?crtfc_key={}&corp_code={}&bgn_de=19990101&last_reprt_at=N&pblntf_detail_ty=A001&pblntf_detail_ty=A002&pblntf_detail_ty=A003'.format(api_key, corp_code)\n",
    "    user_agent = 'Mozilla/5.0 (Windows NT 10.0; Win64; x64) AppleWebKit/537.36 (KHTML, like Gecko) Chrome/87.0.4280.67 Safari/537.36 Edg/87.0.664.47'\n",
    "    headers = {'user-agent' : user_agent}\n",
    "\n",
    "    resp = requests.get(url_info)\n",
    "    resp_decode = resp.content.decode('utf-8')\n",
    "\n",
    "    period = re.findall(r'<report_nm>(.*?)</report_nm>', resp_decode)\n",
    "    rcp = re.findall(r'<rcept_no>(.*?)</rcept_no>', resp_decode)\n",
    "    # <report_nm> 이런건 미리 해보고 알 수 있는 것들\n",
    "    # company는 아직... 좀 더 해보고...\n",
    "\n",
    "    dcm = []\n",
    "\n",
    "    for i in range(len(rcp)):\n",
    "        url_rcp = 'http://dart.fss.or.kr/dsaf001/main.do?rcpNo=' + rcp[i]\n",
    "        resp_rcp = requests.get(url_rcp, headers = headers)\n",
    "        resp_rcp_decode = resp_rcp.content.decode('utf-8')\n",
    "        dcm_i = re.findall(rcp[i]+\"', '(.*?)',\", resp_rcp_decode)[0]\n",
    "        dcm = dcm + [dcm_i]\n",
    "        \n",
    "    dict2_info = dict(zip(zip(period, rcp),dcm))\n",
    "    \n",
    "    print(period[0])\n",
    "    print(rcp[0])\n",
    "    print(dcm[0])\n",
    "    \n",
    "    for i in range(min(len(period), len(rcp), len(dcm))):\n",
    "        url_rcpdcm = 'http://dart.fss.or.kr/pdf/download/excel.do?rcp_no='+rcp[i]+'&dcm_no='+dcm[i]+'&lang=ko'\n",
    "        sheets = ['연결 재무상태표', '연결 손익계산서', '연결 포괄손익계산서']\n",
    "        # sheets의 경우 지금은 이렇게 하지만 나중엔 어떤 sheet가 있는지도 알아낼 수 있어야 할 것 같음\n",
    "               \n",
    "        for sheet in sheets:\n",
    "            resp_rcpdcm = requests.get(url_rcpdcm, headers = headers)\n",
    "            output = BytesIO(resp_rcpdcm.content)\n",
    "            table = pd.read_excel(output, sheet_name = sheet, skiprows = 5)\n",
    "            table.to_csv(period[i]+corp_name+sheet+\".csv\", encoding = 'euc-kr')\n"
   ]
  },
  {
   "cell_type": "code",
   "execution_count": 2,
   "metadata": {},
   "outputs": [
    {
     "name": "stdout",
     "output_type": "stream",
     "text": [
      "00164742\n",
      "분기보고서 (2020.09)\n",
      "20201116001588\n",
      "7549889\n"
     ]
    }
   ],
   "source": [
    "dload_dart_10q('현대자동차')"
   ]
  },
  {
   "cell_type": "code",
   "execution_count": null,
   "metadata": {},
   "outputs": [],
   "source": []
  }
 ],
 "metadata": {
  "kernelspec": {
   "display_name": "Python 3",
   "language": "python",
   "name": "python3"
  },
  "language_info": {
   "codemirror_mode": {
    "name": "ipython",
    "version": 3
   },
   "file_extension": ".py",
   "mimetype": "text/x-python",
   "name": "python",
   "nbconvert_exporter": "python",
   "pygments_lexer": "ipython3",
   "version": "3.7.6"
  }
 },
 "nbformat": 4,
 "nbformat_minor": 4
}
