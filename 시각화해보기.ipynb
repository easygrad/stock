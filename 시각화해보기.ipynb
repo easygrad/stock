{
 "cells": [
  {
   "cell_type": "code",
   "execution_count": 1,
   "metadata": {},
   "outputs": [],
   "source": [
    "# 그래프 그리기 전에 데이터 불러오기\n",
    "\n",
    "import os\n",
    "import pandas as pd\n",
    "import numpy as np\n",
    "import re"
   ]
  },
  {
   "cell_type": "code",
   "execution_count": 59,
   "metadata": {},
   "outputs": [
    {
     "data": {
      "text/plain": [
       "{'2018.06': '4154324',\n",
       " '2019.06': '4437029',\n",
       " '2020.06': '4602813',\n",
       " '2018.09': '4186392',\n",
       " '2019.03': '4334906',\n",
       " '2019.09': '4561213',\n",
       " '2020.03': '4450396',\n",
       " '2020.09': '4730842',\n",
       " '2018.12': '16873960',\n",
       " '2019.12': '17743702'}"
      ]
     },
     "execution_count": 59,
     "metadata": {},
     "output_type": "execute_result"
    }
   ],
   "source": [
    "pl_s = []\n",
    "period_s = []\n",
    "rev_s = []\n",
    "\n",
    "for file in os.listdir('./SK텔레콤'):\n",
    "    if '연결 손익계산서' in file:\n",
    "        pl_s.append(file) \n",
    "        \n",
    "        period = re.findall(r'{}(.*?){}'.format('보고서 \\(', '\\)'), file)\n",
    "        period_s.append(period[0])\n",
    "\n",
    "for file in pl_s:\n",
    "    \n",
    "    df = pd.read_csv('./SK텔레콤/{}'.format(file), encoding = 'euc-kr')\n",
    "    df1 = df.apply(lambda x : x.str.contains('매출액'), axis = 1)\n",
    "    \n",
    "    if df1.sum().sum() == 1:\n",
    "        \n",
    "        col = df1.sum(axis = 0).values.argmax()\n",
    "        row = df1.sum(axis = 1).values.argmax()\n",
    "        rev = df.iloc[row, col+1]\n",
    "        rev_s.append(rev)\n",
    "\n",
    "rev_data = dict(zip(period_s,rev_s))\n",
    "rev_data"
   ]
  },
  {
   "cell_type": "code",
   "execution_count": 7,
   "metadata": {},
   "outputs": [
    {
     "data": {
      "text/html": [
       "<div>\n",
       "<style scoped>\n",
       "    .dataframe tbody tr th:only-of-type {\n",
       "        vertical-align: middle;\n",
       "    }\n",
       "\n",
       "    .dataframe tbody tr th {\n",
       "        vertical-align: top;\n",
       "    }\n",
       "\n",
       "    .dataframe thead th {\n",
       "        text-align: right;\n",
       "    }\n",
       "</style>\n",
       "<table border=\"1\" class=\"dataframe\">\n",
       "  <thead>\n",
       "    <tr style=\"text-align: right;\">\n",
       "      <th></th>\n",
       "      <th>Unnamed: 0</th>\n",
       "      <th>(단위 : 백만원)</th>\n",
       "      <th>Unnamed: 1</th>\n",
       "      <th>Unnamed: 2</th>\n",
       "      <th>Unnamed: 3</th>\n",
       "    </tr>\n",
       "  </thead>\n",
       "  <tbody>\n",
       "    <tr>\n",
       "      <th>0</th>\n",
       "      <td>NaN</td>\n",
       "      <td></td>\n",
       "      <td>제 36 기</td>\n",
       "      <td>제 35 기</td>\n",
       "      <td>제 34 기</td>\n",
       "    </tr>\n",
       "    <tr>\n",
       "      <th>1</th>\n",
       "      <td>NaN</td>\n",
       "      <td>영업수익</td>\n",
       "      <td>17743702</td>\n",
       "      <td>16873960</td>\n",
       "      <td>17520013</td>\n",
       "    </tr>\n",
       "    <tr>\n",
       "      <th>2</th>\n",
       "      <td>NaN</td>\n",
       "      <td>매출액</td>\n",
       "      <td>17743702</td>\n",
       "      <td>16873960</td>\n",
       "      <td>17520013</td>\n",
       "    </tr>\n",
       "    <tr>\n",
       "      <th>3</th>\n",
       "      <td>NaN</td>\n",
       "      <td>영업비용</td>\n",
       "      <td>16633722</td>\n",
       "      <td>15672200</td>\n",
       "      <td>15983387</td>\n",
       "    </tr>\n",
       "    <tr>\n",
       "      <th>4</th>\n",
       "      <td>NaN</td>\n",
       "      <td>종업원급여</td>\n",
       "      <td>2822673</td>\n",
       "      <td>2288655</td>\n",
       "      <td>1966156</td>\n",
       "    </tr>\n",
       "  </tbody>\n",
       "</table>\n",
       "</div>"
      ],
      "text/plain": [
       "   Unnamed: 0 (단위 : 백만원) Unnamed: 1 Unnamed: 2 Unnamed: 3\n",
       "0         NaN                제 36 기     제 35 기     제 34 기\n",
       "1         NaN       영업수익   17743702   16873960   17520013\n",
       "2         NaN        매출액   17743702   16873960   17520013\n",
       "3         NaN       영업비용   16633722   15672200   15983387\n",
       "4         NaN      종업원급여    2822673    2288655    1966156"
      ]
     },
     "execution_count": 7,
     "metadata": {},
     "output_type": "execute_result"
    }
   ],
   "source": [
    "df0.head()"
   ]
  },
  {
   "cell_type": "code",
   "execution_count": 8,
   "metadata": {},
   "outputs": [
    {
     "name": "stderr",
     "output_type": "stream",
     "text": [
      "C:\\Users\\allma\\anaconda3\\lib\\site-packages\\pandas\\core\\ops\\array_ops.py:253: FutureWarning: elementwise comparison failed; returning scalar instead, but in the future will perform elementwise comparison\n",
      "  res_values = method(rvalues)\n"
     ]
    }
   ],
   "source": [
    "df_boolean = df0 == '매출액'\n",
    "col = df_boolean.sum(axis = 0).values.argmax()\n",
    "row = df_boolean.sum(axis = 1).values.argmax()\n"
   ]
  },
  {
   "cell_type": "code",
   "execution_count": 10,
   "metadata": {},
   "outputs": [
    {
     "data": {
      "text/plain": [
       "'매출액'"
      ]
     },
     "execution_count": 10,
     "metadata": {},
     "output_type": "execute_result"
    }
   ],
   "source": [
    "df0.iloc[2,1]"
   ]
  },
  {
   "cell_type": "code",
   "execution_count": 12,
   "metadata": {},
   "outputs": [
    {
     "data": {
      "text/plain": [
       "0    False\n",
       "1    False\n",
       "2     True\n",
       "3    False\n",
       "4    False\n",
       "Name: (단위 : 백만원), dtype: bool"
      ]
     },
     "execution_count": 12,
     "metadata": {},
     "output_type": "execute_result"
    }
   ],
   "source": [
    "df['(단위 : 백만원)'].str.contains('매출액').head()"
   ]
  },
  {
   "cell_type": "code",
   "execution_count": 12,
   "metadata": {},
   "outputs": [],
   "source": [
    "df111 = df.apply(lambda x : x.str.contains('매출액'), axis = 1)"
   ]
  },
  {
   "cell_type": "code",
   "execution_count": 39,
   "metadata": {},
   "outputs": [],
   "source": [
    "\n",
    "col111 = df111.sum(axis = 0).values.argmax()\n",
    "row111 = df111.sum(axis = 1).values.argmax()"
   ]
  },
  {
   "cell_type": "code",
   "execution_count": 40,
   "metadata": {},
   "outputs": [
    {
     "data": {
      "text/plain": [
       "1"
      ]
     },
     "execution_count": 40,
     "metadata": {},
     "output_type": "execute_result"
    }
   ],
   "source": [
    "col111"
   ]
  },
  {
   "cell_type": "code",
   "execution_count": 29,
   "metadata": {},
   "outputs": [
    {
     "data": {
      "text/html": [
       "<div>\n",
       "<style scoped>\n",
       "    .dataframe tbody tr th:only-of-type {\n",
       "        vertical-align: middle;\n",
       "    }\n",
       "\n",
       "    .dataframe tbody tr th {\n",
       "        vertical-align: top;\n",
       "    }\n",
       "\n",
       "    .dataframe thead th {\n",
       "        text-align: right;\n",
       "    }\n",
       "</style>\n",
       "<table border=\"1\" class=\"dataframe\">\n",
       "  <thead>\n",
       "    <tr style=\"text-align: right;\">\n",
       "      <th></th>\n",
       "      <th>Unnamed: 0</th>\n",
       "      <th>(단위 : 백만원)</th>\n",
       "      <th>Unnamed: 1</th>\n",
       "      <th>Unnamed: 2</th>\n",
       "      <th>Unnamed: 3</th>\n",
       "    </tr>\n",
       "  </thead>\n",
       "  <tbody>\n",
       "    <tr>\n",
       "      <th>False</th>\n",
       "      <td>NaN</td>\n",
       "      <td>27</td>\n",
       "      <td>28.0</td>\n",
       "      <td>28.0</td>\n",
       "      <td>28.0</td>\n",
       "    </tr>\n",
       "    <tr>\n",
       "      <th>True</th>\n",
       "      <td>NaN</td>\n",
       "      <td>1</td>\n",
       "      <td>NaN</td>\n",
       "      <td>NaN</td>\n",
       "      <td>NaN</td>\n",
       "    </tr>\n",
       "  </tbody>\n",
       "</table>\n",
       "</div>"
      ],
      "text/plain": [
       "       Unnamed: 0  (단위 : 백만원)  Unnamed: 1  Unnamed: 2  Unnamed: 3\n",
       "False         NaN          27        28.0        28.0        28.0\n",
       "True          NaN           1         NaN         NaN         NaN"
      ]
     },
     "execution_count": 29,
     "metadata": {},
     "output_type": "execute_result"
    }
   ],
   "source": [
    "df111.apply(pd.value_counts)"
   ]
  },
  {
   "cell_type": "code",
   "execution_count": 58,
   "metadata": {},
   "outputs": [
    {
     "data": {
      "text/plain": [
       "1.0"
      ]
     },
     "execution_count": 58,
     "metadata": {},
     "output_type": "execute_result"
    }
   ],
   "source": [
    "df111.sum().sum()"
   ]
  },
  {
   "cell_type": "code",
   "execution_count": 34,
   "metadata": {},
   "outputs": [],
   "source": [
    "# matplot으로 그래프 그리기\n",
    "\n",
    "import matplotlib.pyplot as plt"
   ]
  },
  {
   "cell_type": "code",
   "execution_count": 35,
   "metadata": {},
   "outputs": [],
   "source": [
    "x = period_s\n",
    "y = rev_s"
   ]
  },
  {
   "cell_type": "code",
   "execution_count": 36,
   "metadata": {},
   "outputs": [
    {
     "data": {
      "image/png": "[encoded data removed]",
      "text/plain": [
       "<Figure size 432x288 with 1 Axes>"
      ]
     },
     "metadata": {
      "needs_background": "light"
     },
     "output_type": "display_data"
    }
   ],
   "source": [
    "plt.bar(x, y)\n",
    "plt.xlabel('period')\n",
    "plt.ylabel('revenue')\n",
    "plt.show()"
   ]
  },
  {
   "cell_type": "code",
   "execution_count": 37,
   "metadata": {},
   "outputs": [
    {
     "data": {
      "image/png": "[encoded data removed]",
      "text/plain": [
       "<Figure size 432x288 with 1 Axes>"
      ]
     },
     "metadata": {
      "needs_background": "light"
     },
     "output_type": "display_data"
    }
   ],
   "source": [
    "plt.scatter(x, y)\n",
    "plt.xlabel('period')\n",
    "plt.ylabel('revenue')\n",
    "plt.show()"
   ]
  },
  {
   "cell_type": "code",
   "execution_count": 38,
   "metadata": {},
   "outputs": [
    {
     "data": {
      "image/png": "[encoded data removed]",
      "text/plain": [
       "<Figure size 432x288 with 1 Axes>"
      ]
     },
     "metadata": {
      "needs_background": "light"
     },
     "output_type": "display_data"
    }
   ],
   "source": [
    "plt.plot(x, y)\n",
    "plt.xlabel('period')\n",
    "plt.ylabel('revenue')\n",
    "plt.show()"
   ]
  },
  {
   "cell_type": "code",
   "execution_count": 40,
   "metadata": {},
   "outputs": [
    {
     "name": "stdout",
     "output_type": "stream",
     "text": [
      "[2018.06, 2019.06, 2020.06, 2018.09, 2019.03, 2019.09, 2020.03, 2020.09, 2018.12, 2019.12]\n",
      "[24711802, 26966353, 21858991, 24433735, 23987079, 26968853, 25319448, 27575812, 96812609, 105746422]\n"
     ]
    }
   ],
   "source": [
    "# 문제점: 분기 순서 뒤죽박죽이고, 그래서 이걸 정렬시켜줄 필요\n",
    "\n",
    "period_ss = list(map(float, period_s))\n",
    "rev_ss = list(map(int, rev_s))\n",
    "print(period_ss)\n",
    "print(rev_ss)"
   ]
  },
  {
   "cell_type": "code",
   "execution_count": 42,
   "metadata": {},
   "outputs": [
    {
     "data": {
      "text/plain": [
       "{2018.06: 24711802,\n",
       " 2019.06: 26966353,\n",
       " 2020.06: 21858991,\n",
       " 2018.09: 24433735,\n",
       " 2019.03: 23987079,\n",
       " 2019.09: 26968853,\n",
       " 2020.03: 25319448,\n",
       " 2020.09: 27575812,\n",
       " 2018.12: 96812609,\n",
       " 2019.12: 105746422}"
      ]
     },
     "execution_count": 42,
     "metadata": {},
     "output_type": "execute_result"
    }
   ],
   "source": [
    "rev_table = dict(zip(period_ss, rev_ss))\n",
    "rev_table"
   ]
  },
  {
   "cell_type": "code",
   "execution_count": 53,
   "metadata": {},
   "outputs": [
    {
     "data": {
      "text/plain": [
       "[(2018.06, 24711802),\n",
       " (2018.09, 24433735),\n",
       " (2018.12, 96812609),\n",
       " (2019.03, 23987079),\n",
       " (2019.06, 26966353),\n",
       " (2019.09, 26968853),\n",
       " (2019.12, 105746422),\n",
       " (2020.03, 25319448),\n",
       " (2020.06, 21858991),\n",
       " (2020.09, 27575812)]"
      ]
     },
     "execution_count": 53,
     "metadata": {},
     "output_type": "execute_result"
    }
   ],
   "source": [
    "rev_table_sort = sorted(rev_table.items())\n",
    "rev_table_sort"
   ]
  },
  {
   "cell_type": "code",
   "execution_count": 59,
   "metadata": {},
   "outputs": [
    {
     "data": {
      "text/plain": [
       "tuple"
      ]
     },
     "execution_count": 59,
     "metadata": {},
     "output_type": "execute_result"
    }
   ],
   "source": [
    "type(rev_table_sort[1])"
   ]
  },
  {
   "cell_type": "code",
   "execution_count": 83,
   "metadata": {},
   "outputs": [
    {
     "data": {
      "text/plain": [
       "2018.09"
      ]
     },
     "execution_count": 83,
     "metadata": {},
     "output_type": "execute_result"
    }
   ],
   "source": [
    "rev_table_sort[1][0]"
   ]
  },
  {
   "cell_type": "code",
   "execution_count": 84,
   "metadata": {},
   "outputs": [
    {
     "data": {
      "text/plain": [
       "10"
      ]
     },
     "execution_count": 84,
     "metadata": {},
     "output_type": "execute_result"
    }
   ],
   "source": [
    "len(rev_table_sort)"
   ]
  },
  {
   "cell_type": "code",
   "execution_count": 87,
   "metadata": {},
   "outputs": [
    {
     "data": {
      "text/plain": [
       "{'2018.06': 24711802,\n",
       " '2018.09': 24433735,\n",
       " '2018.12': 96812609,\n",
       " '2019.03': 23987079,\n",
       " '2019.06': 26966353,\n",
       " '2019.09': 26968853,\n",
       " '2019.12': 105746422,\n",
       " '2020.03': 25319448,\n",
       " '2020.06': 21858991,\n",
       " '2020.09': 27575812}"
      ]
     },
     "execution_count": 87,
     "metadata": {},
     "output_type": "execute_result"
    }
   ],
   "source": [
    "# sorted를 하니깐 tuple 형태여서 이걸 어떻게 다뤄야 할 지 모르겠음\n",
    "# 그래서 다시 sorted 후 새로운 list를 만들어줌\n",
    "\n",
    "period_sss = []\n",
    "rev_sss = []\n",
    "\n",
    "for i in range(len(rev_table_sort)):\n",
    "    period_sss_i = rev_table_sort[i][0]\n",
    "    rev_sss_i = rev_table_sort[i][1]\n",
    "    \n",
    "    period_sss.append(str(period_sss_i))\n",
    "    rev_sss.append(rev_sss_i)\n",
    "    \n",
    "dict(zip(period_sss, rev_sss))"
   ]
  },
  {
   "cell_type": "code",
   "execution_count": 88,
   "metadata": {},
   "outputs": [],
   "source": [
    "x1 = period_sss\n",
    "y1 = rev_sss"
   ]
  },
  {
   "cell_type": "code",
   "execution_count": 90,
   "metadata": {},
   "outputs": [
    {
     "data": {
      "image/png": "[encoded data removed]",
      "text/plain": [
       "<Figure size 432x288 with 1 Axes>"
      ]
     },
     "metadata": {
      "needs_background": "light"
     },
     "output_type": "display_data"
    }
   ],
   "source": [
    "plt.bar(x1, y1)\n",
    "plt.xlabel('period')\n",
    "plt.ylabel('revenue')\n",
    "plt.show()"
   ]
  },
  {
   "cell_type": "code",
   "execution_count": 91,
   "metadata": {},
   "outputs": [],
   "source": [
    "# 완성!"
   ]
  },
  {
   "cell_type": "code",
   "execution_count": 15,
   "metadata": {},
   "outputs": [
    {
     "data": {
      "text/plain": [
       "float"
      ]
     },
     "execution_count": 15,
     "metadata": {},
     "output_type": "execute_result"
    }
   ],
   "source": [
    "# 소수점을 찍어주면 int가 아니라 float type이 됨\n",
    "\n",
    "2018.06\n",
    "type(2018.06)"
   ]
  },
  {
   "cell_type": "code",
   "execution_count": 22,
   "metadata": {},
   "outputs": [],
   "source": [
    "floatlist = [1.01, 1.02, 1.09, 1.08]"
   ]
  },
  {
   "cell_type": "code",
   "execution_count": 27,
   "metadata": {},
   "outputs": [
    {
     "data": {
      "text/plain": [
       "[1.01, 1.02, 1.08, 1.09]"
      ]
     },
     "execution_count": 27,
     "metadata": {},
     "output_type": "execute_result"
    }
   ],
   "source": [
    "floatlist.sort(reverse = False)\n",
    "floatlist"
   ]
  }
 ],
 "metadata": {
  "kernelspec": {
   "display_name": "Python 3",
   "language": "python",
   "name": "python3"
  },
  "language_info": {
   "codemirror_mode": {
    "name": "ipython",
    "version": 3
   },
   "file_extension": ".py",
   "mimetype": "text/x-python",
   "name": "python",
   "nbconvert_exporter": "python",
   "pygments_lexer": "ipython3",
   "version": "3.7.6"
  }
 },
 "nbformat": 4,
 "nbformat_minor": 4
}
