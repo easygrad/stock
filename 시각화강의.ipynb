{
 "cells": [
  {
   "cell_type": "code",
   "execution_count": 98,
   "metadata": {},
   "outputs": [],
   "source": [
    "# 시각화 0 파일 불러오기\n",
    "\n",
    "import os"
   ]
  },
  {
   "cell_type": "code",
   "execution_count": 104,
   "metadata": {},
   "outputs": [
    {
     "data": {
      "text/plain": [
       "['반기보고서 (2018.06)현대자동차연결 손익계산서.csv',\n",
       " '반기보고서 (2018.06)현대자동차연결 재무상태표.csv',\n",
       " '반기보고서 (2018.06)현대자동차연결 포괄손익계산서.csv',\n",
       " '반기보고서 (2019.06)현대자동차연결 손익계산서.csv',\n",
       " '반기보고서 (2019.06)현대자동차연결 재무상태표.csv',\n",
       " '반기보고서 (2019.06)현대자동차연결 포괄손익계산서.csv',\n",
       " '반기보고서 (2020.06)현대자동차연결 손익계산서.csv',\n",
       " '반기보고서 (2020.06)현대자동차연결 재무상태표.csv',\n",
       " '반기보고서 (2020.06)현대자동차연결 포괄손익계산서.csv',\n",
       " '분기보고서 (2018.09)현대자동차연결 손익계산서.csv',\n",
       " '분기보고서 (2018.09)현대자동차연결 재무상태표.csv',\n",
       " '분기보고서 (2018.09)현대자동차연결 포괄손익계산서.csv',\n",
       " '분기보고서 (2019.03)현대자동차연결 손익계산서.csv',\n",
       " '분기보고서 (2019.03)현대자동차연결 재무상태표.csv',\n",
       " '분기보고서 (2019.03)현대자동차연결 포괄손익계산서.csv',\n",
       " '분기보고서 (2019.09)현대자동차연결 손익계산서.csv',\n",
       " '분기보고서 (2019.09)현대자동차연결 재무상태표.csv',\n",
       " '분기보고서 (2019.09)현대자동차연결 포괄손익계산서.csv',\n",
       " '분기보고서 (2020.03)현대자동차연결 손익계산서.csv',\n",
       " '분기보고서 (2020.03)현대자동차연결 재무상태표.csv',\n",
       " '분기보고서 (2020.03)현대자동차연결 포괄손익계산서.csv',\n",
       " '분기보고서 (2020.09)현대자동차연결 손익계산서.csv',\n",
       " '분기보고서 (2020.09)현대자동차연결 재무상태표.csv',\n",
       " '분기보고서 (2020.09)현대자동차연결 포괄손익계산서.csv',\n",
       " '사업보고서 (2018.12)현대자동차연결 손익계산서.csv',\n",
       " '사업보고서 (2018.12)현대자동차연결 재무상태표.csv',\n",
       " '사업보고서 (2018.12)현대자동차연결 포괄손익계산서.csv',\n",
       " '사업보고서 (2019.12)현대자동차연결 손익계산서.csv',\n",
       " '사업보고서 (2019.12)현대자동차연결 재무상태표.csv',\n",
       " '사업보고서 (2019.12)현대자동차연결 포괄손익계산서.csv']"
      ]
     },
     "execution_count": 104,
     "metadata": {},
     "output_type": "execute_result"
    }
   ],
   "source": [
    "os.listdir('./현대자동차')"
   ]
  },
  {
   "cell_type": "code",
   "execution_count": 105,
   "metadata": {},
   "outputs": [],
   "source": [
    "import pandas as pd"
   ]
  },
  {
   "cell_type": "code",
   "execution_count": 127,
   "metadata": {},
   "outputs": [
    {
     "data": {
      "text/html": [
       "<div>\n",
       "<style scoped>\n",
       "    .dataframe tbody tr th:only-of-type {\n",
       "        vertical-align: middle;\n",
       "    }\n",
       "\n",
       "    .dataframe tbody tr th {\n",
       "        vertical-align: top;\n",
       "    }\n",
       "\n",
       "    .dataframe thead th {\n",
       "        text-align: right;\n",
       "    }\n",
       "</style>\n",
       "<table border=\"1\" class=\"dataframe\">\n",
       "  <thead>\n",
       "    <tr style=\"text-align: right;\">\n",
       "      <th></th>\n",
       "      <th>Unnamed: 0</th>\n",
       "      <th></th>\n",
       "      <th>제 51 기 반기</th>\n",
       "      <th>Unnamed: 2</th>\n",
       "      <th>제 50 기 반기</th>\n",
       "      <th>Unnamed: 4</th>\n",
       "    </tr>\n",
       "  </thead>\n",
       "  <tbody>\n",
       "    <tr>\n",
       "      <th>0</th>\n",
       "      <td>0</td>\n",
       "      <td>NaN</td>\n",
       "      <td>3개월</td>\n",
       "      <td>누적</td>\n",
       "      <td>3개월</td>\n",
       "      <td>누적</td>\n",
       "    </tr>\n",
       "    <tr>\n",
       "      <th>1</th>\n",
       "      <td>1</td>\n",
       "      <td>매출액</td>\n",
       "      <td>24711802</td>\n",
       "      <td>47148363</td>\n",
       "      <td>24308002</td>\n",
       "      <td>47673961</td>\n",
       "    </tr>\n",
       "    <tr>\n",
       "      <th>2</th>\n",
       "      <td>2</td>\n",
       "      <td>매출원가</td>\n",
       "      <td>20785311</td>\n",
       "      <td>39754359</td>\n",
       "      <td>19581166</td>\n",
       "      <td>38653822</td>\n",
       "    </tr>\n",
       "    <tr>\n",
       "      <th>3</th>\n",
       "      <td>3</td>\n",
       "      <td>매출총이익</td>\n",
       "      <td>3926491</td>\n",
       "      <td>7394004</td>\n",
       "      <td>4726836</td>\n",
       "      <td>9020139</td>\n",
       "    </tr>\n",
       "    <tr>\n",
       "      <th>4</th>\n",
       "      <td>4</td>\n",
       "      <td>판매비와관리비</td>\n",
       "      <td>2975674</td>\n",
       "      <td>5761896</td>\n",
       "      <td>3382366</td>\n",
       "      <td>6424908</td>\n",
       "    </tr>\n",
       "  </tbody>\n",
       "</table>\n",
       "</div>"
      ],
      "text/plain": [
       "   Unnamed: 0          제 51 기 반기 Unnamed: 2 제 50 기 반기 Unnamed: 4\n",
       "0           0      NaN       3개월         누적       3개월         누적\n",
       "1           1      매출액  24711802   47148363  24308002   47673961\n",
       "2           2     매출원가  20785311   39754359  19581166   38653822\n",
       "3           3    매출총이익   3926491    7394004   4726836    9020139\n",
       "4           4  판매비와관리비   2975674    5761896   3382366    6424908"
      ]
     },
     "execution_count": 127,
     "metadata": {},
     "output_type": "execute_result"
    }
   ],
   "source": [
    "df = pd.read_csv('./현대자동차/반기보고서 (2018.06)현대자동차연결 손익계산서.csv', encoding = 'euc-kr')\n",
    "df.head()"
   ]
  },
  {
   "cell_type": "code",
   "execution_count": 123,
   "metadata": {},
   "outputs": [
    {
     "name": "stderr",
     "output_type": "stream",
     "text": [
      "C:\\Users\\allma\\anaconda3\\lib\\site-packages\\pandas\\core\\ops\\array_ops.py:253: FutureWarning: elementwise comparison failed; returning scalar instead, but in the future will perform elementwise comparison\n",
      "  res_values = method(rvalues)\n"
     ]
    }
   ],
   "source": [
    "df_boolean = df == '매출액'"
   ]
  },
  {
   "cell_type": "code",
   "execution_count": 124,
   "metadata": {},
   "outputs": [
    {
     "data": {
      "text/plain": [
       "True"
      ]
     },
     "execution_count": 124,
     "metadata": {},
     "output_type": "execute_result"
    }
   ],
   "source": [
    "'h' in 'hello'"
   ]
  },
  {
   "cell_type": "code",
   "execution_count": 125,
   "metadata": {},
   "outputs": [
    {
     "data": {
      "text/plain": [
       "Unnamed: 0    0\n",
       "              1\n",
       "제 51 기 반기     0\n",
       "Unnamed: 2    0\n",
       "제 50 기 반기     0\n",
       "Unnamed: 4    0\n",
       "dtype: int64"
      ]
     },
     "execution_count": 125,
     "metadata": {},
     "output_type": "execute_result"
    }
   ],
   "source": [
    "df_boolean.sum(axis = 0)"
   ]
  },
  {
   "cell_type": "code",
   "execution_count": 126,
   "metadata": {},
   "outputs": [
    {
     "data": {
      "text/plain": [
       "0     0\n",
       "1     1\n",
       "2     0\n",
       "3     0\n",
       "4     0\n",
       "5     0\n",
       "6     0\n",
       "7     0\n",
       "8     0\n",
       "9     0\n",
       "10    0\n",
       "11    0\n",
       "12    0\n",
       "13    0\n",
       "14    0\n",
       "15    0\n",
       "16    0\n",
       "17    0\n",
       "18    0\n",
       "19    0\n",
       "20    0\n",
       "21    0\n",
       "22    0\n",
       "23    0\n",
       "dtype: int64"
      ]
     },
     "execution_count": 126,
     "metadata": {},
     "output_type": "execute_result"
    }
   ],
   "source": [
    "df_boolean.sum(axis = 1)"
   ]
  },
  {
   "cell_type": "code",
   "execution_count": 128,
   "metadata": {},
   "outputs": [
    {
     "data": {
      "text/plain": [
       "1"
      ]
     },
     "execution_count": 128,
     "metadata": {},
     "output_type": "execute_result"
    }
   ],
   "source": [
    "sum(df_boolean.sum(axis = 0))"
   ]
  },
  {
   "cell_type": "code",
   "execution_count": 129,
   "metadata": {},
   "outputs": [
    {
     "data": {
      "text/plain": [
       "1"
      ]
     },
     "execution_count": 129,
     "metadata": {},
     "output_type": "execute_result"
    }
   ],
   "source": [
    "df_boolean.sum(axis = 1)[1]"
   ]
  },
  {
   "cell_type": "code",
   "execution_count": 130,
   "metadata": {},
   "outputs": [],
   "source": [
    "import numpy as np"
   ]
  },
  {
   "cell_type": "code",
   "execution_count": 131,
   "metadata": {},
   "outputs": [
    {
     "data": {
      "text/plain": [
       "1"
      ]
     },
     "execution_count": 131,
     "metadata": {},
     "output_type": "execute_result"
    }
   ],
   "source": [
    "np.argmax(df_boolean.sum(axis = 1))"
   ]
  },
  {
   "cell_type": "code",
   "execution_count": 132,
   "metadata": {},
   "outputs": [
    {
     "data": {
      "text/plain": [
       "1"
      ]
     },
     "execution_count": 132,
     "metadata": {},
     "output_type": "execute_result"
    }
   ],
   "source": [
    "np.argmax(df_boolean.sum(axis = 0))"
   ]
  },
  {
   "cell_type": "code",
   "execution_count": 133,
   "metadata": {},
   "outputs": [
    {
     "data": {
      "text/plain": [
       "array([0, 1, 0, 0, 0, 0, 0, 0, 0, 0, 0, 0, 0, 0, 0, 0, 0, 0, 0, 0, 0, 0,\n",
       "       0, 0], dtype=int64)"
      ]
     },
     "execution_count": 133,
     "metadata": {},
     "output_type": "execute_result"
    }
   ],
   "source": [
    "df_boolean.sum(axis = 1).values"
   ]
  },
  {
   "cell_type": "code",
   "execution_count": 134,
   "metadata": {},
   "outputs": [
    {
     "data": {
      "text/plain": [
       "array([0, 1, 0, 0, 0, 0], dtype=int64)"
      ]
     },
     "execution_count": 134,
     "metadata": {},
     "output_type": "execute_result"
    }
   ],
   "source": [
    "df_boolean.sum(axis = 0).values"
   ]
  },
  {
   "cell_type": "code",
   "execution_count": 138,
   "metadata": {},
   "outputs": [
    {
     "data": {
      "text/plain": [
       "1"
      ]
     },
     "execution_count": 138,
     "metadata": {},
     "output_type": "execute_result"
    }
   ],
   "source": [
    "df_boolean.sum(axis = 0).values.argmax()"
   ]
  },
  {
   "cell_type": "code",
   "execution_count": 136,
   "metadata": {},
   "outputs": [
    {
     "data": {
      "text/plain": [
       "'매출액'"
      ]
     },
     "execution_count": 136,
     "metadata": {},
     "output_type": "execute_result"
    }
   ],
   "source": [
    "df.iloc[1,1]"
   ]
  },
  {
   "cell_type": "code",
   "execution_count": 137,
   "metadata": {},
   "outputs": [
    {
     "data": {
      "text/plain": [
       "'24711802'"
      ]
     },
     "execution_count": 137,
     "metadata": {},
     "output_type": "execute_result"
    }
   ],
   "source": [
    "df.iloc[1,2]"
   ]
  },
  {
   "cell_type": "code",
   "execution_count": 10,
   "metadata": {},
   "outputs": [],
   "source": [
    "list1 = [1,2,3]"
   ]
  },
  {
   "cell_type": "code",
   "execution_count": 11,
   "metadata": {},
   "outputs": [
    {
     "data": {
      "text/plain": [
       "True"
      ]
     },
     "execution_count": 11,
     "metadata": {},
     "output_type": "execute_result"
    }
   ],
   "source": [
    "1 in list1"
   ]
  },
  {
   "cell_type": "code",
   "execution_count": 8,
   "metadata": {},
   "outputs": [],
   "source": [
    "name = '이성재'"
   ]
  },
  {
   "cell_type": "code",
   "execution_count": 9,
   "metadata": {},
   "outputs": [
    {
     "data": {
      "text/plain": [
       "True"
      ]
     },
     "execution_count": 9,
     "metadata": {},
     "output_type": "execute_result"
    }
   ],
   "source": [
    "'이' in name"
   ]
  },
  {
   "cell_type": "code",
   "execution_count": null,
   "metadata": {},
   "outputs": [],
   "source": []
  }
 ],
 "metadata": {
  "kernelspec": {
   "display_name": "Python 3",
   "language": "python",
   "name": "python3"
  },
  "language_info": {
   "codemirror_mode": {
    "name": "ipython",
    "version": 3
   },
   "file_extension": ".py",
   "mimetype": "text/x-python",
   "name": "python",
   "nbconvert_exporter": "python",
   "pygments_lexer": "ipython3",
   "version": "3.7.6"
  }
 },
 "nbformat": 4,
 "nbformat_minor": 4
}
