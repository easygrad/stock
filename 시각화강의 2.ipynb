{
 "cells": [
  {
   "cell_type": "code",
   "execution_count": 160,
   "metadata": {},
   "outputs": [],
   "source": [
    "# 시각화 1 각각의 파일에서 필요한 데이터 불러오기\n",
    "\n",
    "import os\n",
    "import pandas as pd\n",
    "import numpy as np\n",
    "import re"
   ]
  },
  {
   "cell_type": "code",
   "execution_count": 149,
   "metadata": {},
   "outputs": [
    {
     "name": "stdout",
     "output_type": "stream",
     "text": [
      "24711802\n",
      "자산\n",
      "nan\n",
      "26966353\n",
      "자산\n",
      "nan\n",
      "21858991\n",
      "자산\n",
      "nan\n",
      "24433735\n",
      "자산\n",
      "nan\n",
      "23987079\n",
      "자산\n",
      "nan\n",
      "26968853\n",
      "자산\n",
      "nan\n",
      "25319448\n",
      "자산\n",
      "nan\n",
      "27575812\n",
      "자산\n",
      "nan\n",
      "96812609\n",
      " \n",
      " \n",
      "105746422\n",
      " \n",
      " \n"
     ]
    }
   ],
   "source": [
    "for file in os.listdir('./현대자동차'):\n",
    "    df = pd.read_csv('./현대자동차/{}'.format(file), encoding = 'euc-kr')\n",
    "    \n",
    "    df_boolean = df == '매출액'\n",
    "    col = df_boolean.sum(axis = 0).values.argmax()\n",
    "    row = df_boolean.sum(axis = 1).values.argmax()\n",
    "    rev = df.iloc[row, col+1]\n",
    "    print(rev)"
   ]
  },
  {
   "cell_type": "code",
   "execution_count": 198,
   "metadata": {
    "scrolled": true
   },
   "outputs": [
    {
     "name": "stdout",
     "output_type": "stream",
     "text": [
      "2018.06\n",
      "2019.06\n",
      "2020.06\n",
      "2018.09\n",
      "2019.03\n",
      "2019.09\n",
      "2020.03\n",
      "2020.09\n",
      "2018.12\n",
      "2019.12\n"
     ]
    },
    {
     "data": {
      "text/plain": [
       "['반기보고서 (2018.06)현대자동차연결 손익계산서.csv',\n",
       " '반기보고서 (2019.06)현대자동차연결 손익계산서.csv',\n",
       " '반기보고서 (2020.06)현대자동차연결 손익계산서.csv',\n",
       " '분기보고서 (2018.09)현대자동차연결 손익계산서.csv',\n",
       " '분기보고서 (2019.03)현대자동차연결 손익계산서.csv',\n",
       " '분기보고서 (2019.09)현대자동차연결 손익계산서.csv',\n",
       " '분기보고서 (2020.03)현대자동차연결 손익계산서.csv',\n",
       " '분기보고서 (2020.09)현대자동차연결 손익계산서.csv',\n",
       " '사업보고서 (2018.12)현대자동차연결 손익계산서.csv',\n",
       " '사업보고서 (2019.12)현대자동차연결 손익계산서.csv']"
      ]
     },
     "execution_count": 198,
     "metadata": {},
     "output_type": "execute_result"
    }
   ],
   "source": [
    "# 손익계산서만 필요함!\n",
    "\n",
    "pl_list = []\n",
    "period_s = []\n",
    "\n",
    "for file in os.listdir('./현대자동차'):\n",
    "    if ' 손익계산서' in file:\n",
    "        pl_list.append(file)    \n",
    "        period = re.findall(r'{}(.*?){}'.format('보고서 \\(', '\\)현대자동차'), file)\n",
    "        print(period[0])\n",
    "\n",
    "pl_list"
   ]
  },
  {
   "cell_type": "code",
   "execution_count": 199,
   "metadata": {},
   "outputs": [
    {
     "data": {
      "text/plain": [
       "{'2018.06': '24711802',\n",
       " '2019.06': '26966353',\n",
       " '2020.06': '21858991',\n",
       " '2018.09': '24433735',\n",
       " '2019.03': '23987079',\n",
       " '2019.09': '26968853',\n",
       " '2020.03': '25319448',\n",
       " '2020.09': '27575812',\n",
       " '2018.12': '96812609',\n",
       " '2019.12': '105746422'}"
      ]
     },
     "execution_count": 199,
     "metadata": {},
     "output_type": "execute_result"
    }
   ],
   "source": [
    "pl_list = []\n",
    "period_s = []\n",
    "rev_s = []\n",
    "\n",
    "for file in os.listdir('./현대자동차'):\n",
    "    if ' 손익계산서' in file:\n",
    "        pl_list.append(file) \n",
    "        \n",
    "        period = re.findall(r'{}(.*?){}'.format('보고서 \\(', '\\)현대자동차'), file)\n",
    "        period_s.append(period[0])\n",
    "\n",
    "for file in pl_list:\n",
    "    \n",
    "    df = pd.read_csv('./현대자동차/{}'.format(file), encoding = 'euc-kr')\n",
    "    \n",
    "    df_boolean = df == '매출액'\n",
    "    col = df_boolean.sum(axis = 0).values.argmax()\n",
    "    row = df_boolean.sum(axis = 1).values.argmax()\n",
    "    rev = df.iloc[row, col+1]\n",
    "    rev_s.append(rev)\n",
    "\n",
    "rev_data = dict(zip(period_s,rev_s))\n",
    "rev_data"
   ]
  },
  {
   "cell_type": "code",
   "execution_count": 189,
   "metadata": {},
   "outputs": [],
   "source": [
    "example = '보고서 (1.1)현대'"
   ]
  },
  {
   "cell_type": "code",
   "execution_count": 190,
   "metadata": {},
   "outputs": [
    {
     "data": {
      "text/plain": [
       "['(1.1)']"
      ]
     },
     "execution_count": 190,
     "metadata": {},
     "output_type": "execute_result"
    }
   ],
   "source": [
    "re.findall('보고서 (.*?)현대', example)"
   ]
  },
  {
   "cell_type": "code",
   "execution_count": 197,
   "metadata": {},
   "outputs": [
    {
     "data": {
      "text/plain": [
       "['1.1)']"
      ]
     },
     "execution_count": 197,
     "metadata": {},
     "output_type": "execute_result"
    }
   ],
   "source": [
    "re.findall('{}(.*?){}'.format('서 \\(','현'), example)"
   ]
  },
  {
   "cell_type": "code",
   "execution_count": null,
   "metadata": {},
   "outputs": [],
   "source": []
  }
 ],
 "metadata": {
  "kernelspec": {
   "display_name": "Python 3",
   "language": "python",
   "name": "python3"
  },
  "language_info": {
   "codemirror_mode": {
    "name": "ipython",
    "version": 3
   },
   "file_extension": ".py",
   "mimetype": "text/x-python",
   "name": "python",
   "nbconvert_exporter": "python",
   "pygments_lexer": "ipython3",
   "version": "3.7.6"
  }
 },
 "nbformat": 4,
 "nbformat_minor": 4
}
