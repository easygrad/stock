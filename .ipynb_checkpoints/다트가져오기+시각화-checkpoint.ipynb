{
 "cells": [
  {
   "cell_type": "code",
   "execution_count": 1,
   "metadata": {},
   "outputs": [],
   "source": [
    "# 종합: 데이터 불러오기, 저장하기, 분석하기"
   ]
  },
  {
   "cell_type": "code",
   "execution_count": 1,
   "metadata": {},
   "outputs": [],
   "source": [
    "\n",
    "import requests\n",
    "import pandas as pd\n",
    "import numpy as np\n",
    "from io import BytesIO\n",
    "import re\n",
    "import os\n",
    "from zipfile import ZipFile\n",
    "import xmltodict\n",
    "import json\n",
    "\n",
    "api_key = '7d523a1a3ce98201eb9eeb5c04c206363c176810'\n",
    "url_corp = 'https://opendart.fss.or.kr/api/corpCode.xml?crtfc_key={}'.format(api_key)\n",
    "resp_corp = requests.get(url_corp)\n",
    "\n",
    "zf_corp = ZipFile(BytesIO(resp_corp.content))\n",
    "zf_corp_name = zf_corp.namelist()\n",
    "zf_corp_name_pop = zf_corp_name.pop()\n",
    "\n",
    "data_xml = zf_corp.read(zf_corp_name_pop).decode('utf-8')\n",
    "data_odict = xmltodict.parse(data_xml)\n",
    "data_dict = json.loads(json.dumps(data_odict))\n",
    "data = data_dict.get('result', {}).get('list')\n",
    "\n"
   ]
  },
  {
   "cell_type": "code",
   "execution_count": null,
   "metadata": {},
   "outputs": [],
   "source": []
  },
  {
   "cell_type": "code",
   "execution_count": 2,
   "metadata": {},
   "outputs": [],
   "source": [
    "def dload_dart_10q(corp_name):\n",
    "\n",
    "    where_name = (item for item in data if item['corp_name'] == corp_name)\n",
    "    # corp_name 이 corp_name인 dict를 list에서 가져오기\n",
    "    # 만약 값이 없을 경우 false가 dict에 저장됨\n",
    "    dict_name = next(where_name, False)\n",
    "    corp_code = dict_name['corp_code']\n",
    "\n",
    "    print(corp_code)\n",
    "    \n",
    "    url_info = 'https://opendart.fss.or.kr/api/list.xml?crtfc_key={}&corp_code={}&bgn_de=19990101&last_reprt_at=N&pblntf_detail_ty=A001&pblntf_detail_ty=A002&pblntf_detail_ty=A003'.format(api_key, corp_code)\n",
    "    user_agent = 'Mozilla/5.0 (Windows NT 10.0; Win64; x64) AppleWebKit/537.36 (KHTML, like Gecko) Chrome/87.0.4280.67 Safari/537.36 Edg/87.0.664.47'\n",
    "    headers = {'user-agent' : user_agent}\n",
    "\n",
    "    resp = requests.get(url_info)\n",
    "    resp_decode = resp.content.decode('utf-8')\n",
    "\n",
    "    period = re.findall(r'<report_nm>(.*?)</report_nm>', resp_decode)\n",
    "    rcp = re.findall(r'<rcept_no>(.*?)</rcept_no>', resp_decode)\n",
    "    # <report_nm> 이런건 미리 해보고 알 수 있는 것들\n",
    "    # company는 아직... 좀 더 해보고...\n",
    "\n",
    "    dcm = []\n",
    "\n",
    "    for i in range(len(rcp)):\n",
    "        url_rcp = 'http://dart.fss.or.kr/dsaf001/main.do?rcpNo=' + rcp[i]\n",
    "        resp_rcp = requests.get(url_rcp, headers = headers)\n",
    "        resp_rcp_decode = resp_rcp.content.decode('utf-8')\n",
    "        dcm_i = re.findall(rcp[i]+\"', '(.*?)',\", resp_rcp_decode)[0]\n",
    "        dcm = dcm + [dcm_i]\n",
    "        \n",
    "    dict2_info = dict(zip(zip(period, rcp),dcm))\n",
    "    \n",
    "    print(period[0])\n",
    "    print(rcp[0])\n",
    "    print(dcm[0])\n",
    "    \n",
    "    os.makedirs('./'+corp_name)\n",
    "    \n",
    "    for i in range(min(len(period), len(rcp), len(dcm))):\n",
    "        url_rcpdcm = 'http://dart.fss.or.kr/pdf/download/excel.do?rcp_no='+rcp[i]+'&dcm_no='+dcm[i]+'&lang=ko'\n",
    "               \n",
    "        resp_rcpdcm = requests.get(url_rcpdcm, headers = headers)\n",
    "        output = BytesIO(resp_rcpdcm.content)\n",
    "        sheet_name_s = list(pd.read_excel(output, sheet_name = None).keys())\n",
    "\n",
    "        for sheet in sheet_name_s:\n",
    "            output = BytesIO(resp_rcpdcm.content)\n",
    "            table = pd.read_excel(output, sheet_name = sheet, skiprows = 5)\n",
    "            table.to_csv('./'+corp_name+'/'+period[i]+' '+corp_name+' '+sheet+\".csv\", encoding = 'euc-kr')"
   ]
  },
  {
   "cell_type": "code",
   "execution_count": 3,
   "metadata": {
    "scrolled": true
   },
   "outputs": [
    {
     "name": "stdout",
     "output_type": "stream",
     "text": [
      "00401731\n",
      "분기보고서 (2020.09)\n",
      "20201116001197\n",
      "7548924\n"
     ]
    }
   ],
   "source": [
    "dload_dart_10q('LG전자')"
   ]
  },
  {
   "cell_type": "code",
   "execution_count": 85,
   "metadata": {},
   "outputs": [],
   "source": [
    "def pre_chart_data(corp_name):\n",
    "    pl_s = []\n",
    "    period_s = []\n",
    "    rev_s = []\n",
    "\n",
    "    for file in os.listdir('./'+corp_name):\n",
    "        if ' 손익계산서' in file:\n",
    "            pl_s.append(file) \n",
    "\n",
    "            period = re.findall(r'{}(.*?){}'.format('보고서 \\(', '\\)'), file)\n",
    "            period_s.append(period[0])\n",
    "\n",
    "    for file in pl_s:\n",
    "\n",
    "        df = pd.read_csv('./'+corp_name+'/{}'.format(file), encoding = 'euc-kr')\n",
    "\n",
    "        df_boolean = df == '매출액'\n",
    "        col = df_boolean.sum(axis = 0).values.argmax()\n",
    "        row = df_boolean.sum(axis = 1).values.argmax()\n",
    "        rev = df.iloc[row, col+1]\n",
    "        rev_s.append(rev)\n",
    "        \n",
    "    period_ss = list(map(float, period_s))\n",
    "    rev_ss = list(map(int, rev_s))\n",
    "    rev_table = dict(zip(period_ss, rev_ss))\n",
    "    \n",
    "    rev_table_sort = sorted(rev_table.items())\n",
    "    \n",
    "    period_sss = []\n",
    "    rev_sss = []\n",
    "\n",
    "    for i in range(len(rev_table_sort)):\n",
    "        period_sss_i = rev_table_sort[i][0]\n",
    "        rev_sss_i = rev_table_sort[i][1]\n",
    "\n",
    "        period_sss.append(str(period_sss_i))\n",
    "        rev_sss.append(rev_sss_i)\n",
    "\n",
    "    rev_table_sorted = dict(zip(period_sss, rev_sss))\n",
    "    return rev_table_sorted"
   ]
  },
  {
   "cell_type": "code",
   "execution_count": 86,
   "metadata": {
    "scrolled": true
   },
   "outputs": [
    {
     "name": "stderr",
     "output_type": "stream",
     "text": [
      "C:\\Users\\allma\\anaconda3\\lib\\site-packages\\pandas\\core\\ops\\array_ops.py:253: FutureWarning: elementwise comparison failed; returning scalar instead, but in the future will perform elementwise comparison\n",
      "  res_values = method(rvalues)\n"
     ]
    },
    {
     "data": {
      "text/plain": [
       "{'2018.06': 24711802,\n",
       " '2018.09': 24433735,\n",
       " '2018.12': 96812609,\n",
       " '2019.03': 23987079,\n",
       " '2019.06': 26966353,\n",
       " '2019.09': 26968853,\n",
       " '2019.12': 105746422,\n",
       " '2020.03': 25319448,\n",
       " '2020.06': 21858991,\n",
       " '2020.09': 27575812}"
      ]
     },
     "execution_count": 86,
     "metadata": {},
     "output_type": "execute_result"
    }
   ],
   "source": [
    "pre_chart_data('현대자동차')"
   ]
  },
  {
   "cell_type": "code",
   "execution_count": null,
   "metadata": {},
   "outputs": [],
   "source": [
    "### 문제점! : 삼성전자는 매출액이 수익(매출액)으로 표시되어 있음! 빈칸이 또 방해하기도 함!"
   ]
  },
  {
   "cell_type": "code",
   "execution_count": null,
   "metadata": {},
   "outputs": [],
   "source": []
  }
 ],
 "metadata": {
  "kernelspec": {
   "display_name": "Python 3",
   "language": "python",
   "name": "python3"
  },
  "language_info": {
   "codemirror_mode": {
    "name": "ipython",
    "version": 3
   },
   "file_extension": ".py",
   "mimetype": "text/x-python",
   "name": "python",
   "nbconvert_exporter": "python",
   "pygments_lexer": "ipython3",
   "version": "3.7.6"
  }
 },
 "nbformat": 4,
 "nbformat_minor": 4
}
