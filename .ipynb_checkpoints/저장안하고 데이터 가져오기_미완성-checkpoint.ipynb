{
 "cells": [
  {
   "cell_type": "code",
   "execution_count": 1,
   "metadata": {},
   "outputs": [],
   "source": [
    "# 저장하지 않고 다트가져오기+시각화 => 시간 너무 오래 걸려서 포기. 나중에 시간 많을 때 해볼 것"
   ]
  },
  {
   "cell_type": "code",
   "execution_count": 37,
   "metadata": {},
   "outputs": [],
   "source": [
    "import requests\n",
    "import pandas as pd\n",
    "import numpy as np\n",
    "from io import BytesIO\n",
    "import re\n",
    "import os\n",
    "from zipfile import ZipFile\n",
    "import xmltodict\n",
    "import json\n",
    "import matplotlib.pyplot as plt\n",
    "\n",
    "api_key = '7d523a1a3ce98201eb9eeb5c04c206363c176810'\n",
    "url_corp = 'https://opendart.fss.or.kr/api/corpCode.xml?crtfc_key={}'.format(api_key)\n",
    "resp_corp = requests.get(url_corp)\n",
    "\n",
    "zf_corp = ZipFile(BytesIO(resp_corp.content))\n",
    "zf_corp_name = zf_corp.namelist()\n",
    "zf_corp_name_pop = zf_corp_name.pop()\n",
    "\n",
    "data_xml = zf_corp.read(zf_corp_name_pop).decode('utf-8')\n",
    "data_odict = xmltodict.parse(data_xml)\n",
    "data_dict = json.loads(json.dumps(data_odict))\n",
    "data = data_dict.get('result', {}).get('list')\n"
   ]
  },
  {
   "cell_type": "code",
   "execution_count": 4,
   "metadata": {},
   "outputs": [],
   "source": [
    "corp_name = '삼성전자'"
   ]
  },
  {
   "cell_type": "code",
   "execution_count": 5,
   "metadata": {},
   "outputs": [
    {
     "name": "stdout",
     "output_type": "stream",
     "text": [
      "00126380\n"
     ]
    }
   ],
   "source": [
    "\n",
    "where_name = (item for item in data if item['corp_name'] == corp_name)\n",
    "# corp_name 이 corp_name인 dict를 list에서 가져오기\n",
    "# 만약 값이 없을 경우 false가 dict에 저장됨\n",
    "dict_name = next(where_name, False)\n",
    "corp_code = dict_name['corp_code']\n",
    "\n",
    "print(corp_code)\n",
    "\n"
   ]
  },
  {
   "cell_type": "code",
   "execution_count": 6,
   "metadata": {},
   "outputs": [
    {
     "name": "stdout",
     "output_type": "stream",
     "text": [
      "분기보고서 (2020.09)\n",
      "20201116001248\n",
      "7549051\n"
     ]
    }
   ],
   "source": [
    "url_info = 'https://opendart.fss.or.kr/api/list.xml?crtfc_key={}&corp_code={}&bgn_de=19990101&last_reprt_at=N&pblntf_detail_ty=A001&pblntf_detail_ty=A002&pblntf_detail_ty=A003'.format(api_key, corp_code)\n",
    "user_agent = 'Mozilla/5.0 (Windows NT 10.0; Win64; x64) AppleWebKit/537.36 (KHTML, like Gecko) Chrome/87.0.4280.67 Safari/537.36 Edg/87.0.664.47'\n",
    "headers = {'user-agent' : user_agent}\n",
    "\n",
    "resp = requests.get(url_info)\n",
    "resp_decode = resp.content.decode('utf-8')\n",
    "\n",
    "period = re.findall(r'<report_nm>(.*?)</report_nm>', resp_decode)\n",
    "rcp = re.findall(r'<rcept_no>(.*?)</rcept_no>', resp_decode)\n",
    "# <report_nm> 이런건 미리 해보고 알 수 있는 것들\n",
    "\n",
    "dcm = []\n",
    "\n",
    "for i in range(len(rcp)):\n",
    "    url_rcp = 'http://dart.fss.or.kr/dsaf001/main.do?rcpNo=' + rcp[i]\n",
    "    resp_rcp = requests.get(url_rcp, headers = headers)\n",
    "    resp_rcp_decode = resp_rcp.content.decode('utf-8')\n",
    "    dcm_i = re.findall(rcp[i]+\"', '(.*?)',\", resp_rcp_decode)[0]\n",
    "    dcm = dcm + [dcm_i]\n",
    "\n",
    "dict2_info = dict(zip(zip(period, rcp),dcm))\n",
    "\n",
    "print(period[0])\n",
    "print(rcp[0])\n",
    "print(dcm[0])\n",
    "\n"
   ]
  },
  {
   "cell_type": "code",
   "execution_count": 7,
   "metadata": {},
   "outputs": [
    {
     "name": "stdout",
     "output_type": "stream",
     "text": [
      "['기본정보', '연결 재무상태표', '연결 손익계산서', '연결 포괄손익계산서', '연결 자본변동표', '연결 현금흐름표', '재무상태표', '손익계산서', '포괄손익계산서', '자본변동표', '현금흐름표']\n"
     ]
    }
   ],
   "source": [
    "i = 0\n",
    "\n",
    "url_rcpdcm = 'http://dart.fss.or.kr/pdf/download/excel.do?rcp_no='+rcp[i]+'&dcm_no='+dcm[i]+'&lang=ko'\n",
    "\n",
    "resp_rcpdcm = requests.get(url_rcpdcm, headers = headers)\n",
    "output = BytesIO(resp_rcpdcm.content)\n",
    "sheet_name_s = list(pd.read_excel(output, sheet_name = None).keys())\n",
    "\n",
    "print(sheet_name_s)\n"
   ]
  },
  {
   "cell_type": "code",
   "execution_count": null,
   "metadata": {},
   "outputs": [],
   "source": []
  },
  {
   "cell_type": "code",
   "execution_count": 49,
   "metadata": {},
   "outputs": [],
   "source": [
    "def dart_data_10q(corp_name, fs_type, fs_item):\n",
    "    where_name = (item for item in data if item['corp_name'] == corp_name)\n",
    "    # corp_name 이 corp_name인 dict를 list에서 가져오기\n",
    "    # 만약 값이 없을 경우 false가 dict에 저장됨\n",
    "    dict_name = next(where_name, False)\n",
    "    corp_code = dict_name['corp_code']\n",
    "\n",
    "    print(corp_code)\n",
    "    print(' ')\n",
    "    \n",
    "    url_info = 'https://opendart.fss.or.kr/api/list.xml?crtfc_key={}&corp_code={}&bgn_de=19990101&last_reprt_at=N&pblntf_detail_ty=A001&pblntf_detail_ty=A002&pblntf_detail_ty=A003'.format(api_key, corp_code)\n",
    "    user_agent = 'Mozilla/5.0 (Windows NT 10.0; Win64; x64) AppleWebKit/537.36 (KHTML, like Gecko) Chrome/87.0.4280.67 Safari/537.36 Edg/87.0.664.47'\n",
    "    headers = {'user-agent' : user_agent}\n",
    "\n",
    "    resp = requests.get(url_info)\n",
    "    resp_decode = resp.content.decode('utf-8')\n",
    "\n",
    "    period = re.findall(r'<report_nm>(.*?)</report_nm>', resp_decode)\n",
    "    rcp = re.findall(r'<rcept_no>(.*?)</rcept_no>', resp_decode)\n",
    "    # <report_nm> 이런건 미리 해보고 알 수 있는 것들\n",
    "\n",
    "    dcm = []\n",
    "\n",
    "    for i in range(len(rcp)):\n",
    "        url_rcp = 'http://dart.fss.or.kr/dsaf001/main.do?rcpNo=' + rcp[i]\n",
    "        resp_rcp = requests.get(url_rcp, headers = headers)\n",
    "        resp_rcp_decode = resp_rcp.content.decode('utf-8')\n",
    "        dcm_i = re.findall(rcp[i]+\"', '(.*?)',\", resp_rcp_decode)[0]\n",
    "        dcm = dcm + [dcm_i]\n",
    "        \n",
    "    dict2_info = dict(zip(zip(period, rcp),dcm))\n",
    "    \n",
    "    print(period[0])\n",
    "    print(rcp[0])\n",
    "    print(dcm[0])\n",
    "    print(' ')\n",
    "    \n",
    "    for i in range(min(len(period), len(rcp), len(dcm))):\n",
    "        url_rcpdcm = 'http://dart.fss.or.kr/pdf/download/excel.do?rcp_no='+rcp[i]+'&dcm_no='+dcm[i]+'&lang=ko'\n",
    "               \n",
    "        resp_rcpdcm = requests.get(url_rcpdcm, headers = headers)\n",
    "        output = BytesIO(resp_rcpdcm.content)\n",
    "        sheet_name_s = list(pd.read_excel(output, sheet_name = None).keys())\n",
    "\n",
    "    print(sheet_name_s)\n",
    "    print(' ')\n",
    "    \n",
    "    period_s = []\n",
    "    rev_s = []  \n",
    "    \n",
    "    for i in range(len(period)):\n",
    "        period_i = re.findall(r'{}(.*?){}'.format('보고서 \\(','\\)'), period[i])[0]\n",
    "        period_s.append(period_i)\n",
    "    \n",
    "    for i in range(min(len(period), len(rcp), len(dcm))):\n",
    "        url_rcpdcm = 'http://dart.fss.or.kr/pdf/download/excel.do?rcp_no='+rcp[i]+'&dcm_no='+dcm[i]+'&lang=ko'\n",
    "               \n",
    "        resp_rcpdcm = requests.get(url_rcpdcm, headers = headers)\n",
    "        output = BytesIO(resp_rcpdcm.content)\n",
    "\n",
    "        df = pd.read_excel(output, sheet_name = fs_type)\n",
    "        df1 = df.apply(lambda x : x.str.contains(fs_item), axis = 1)\n",
    "        \n",
    "        if df1.sum().sum() == 1 :\n",
    "            \n",
    "            col = df1.sum(axis = 0).values.argmax()\n",
    "            row = df1.sum(axis = 1).values.argmax()\n",
    "            rev = df.iloc[row, col+1]\n",
    "            rev_s.append(rev)\n",
    "            \n",
    "        else:\n",
    "            print('error '+str(df1.sum().sum()))\n",
    "    \n",
    "    print(df)\n",
    "    print(' ')\n",
    "    \n",
    "    print(period_s)\n",
    "    print(rev_s)\n",
    "    print(' ')\n",
    "    \n",
    "    period_ss = list(map(float, period_s))\n",
    "    rev_ss = list(map(int, rev_s))\n",
    "    rev_table = dict(zip(period_ss, rev_ss))\n",
    "    rev_table_sort = sorted(rev_table.items())\n",
    "    \n",
    "    period_sss = []\n",
    "    rev_sss = []\n",
    "\n",
    "    for i in range(len(rev_table_sort)):\n",
    "        period_sss_i = rev_table_sort[i][0]\n",
    "        rev_sss_i = rev_table_sort[i][1]\n",
    "\n",
    "        period_sss.append(str('%.2f'%period_sss_i))\n",
    "        rev_sss.append(rev_sss_i)\n",
    "\n",
    "    rev_table_sorted = dict(zip(period_sss, rev_sss))\n",
    "    \n",
    "    x_s = period_sss\n",
    "    y_s = rev_sss\n",
    "\n",
    "    plt.bar(x_s, y_s)\n",
    "    plt.xlabel('Period')\n",
    "    plt.ylabel('Revenue')\n",
    "    plt.show()\n",
    "    \n",
    "    return rev_table_sorted    "
   ]
  },
  {
   "cell_type": "code",
   "execution_count": 55,
   "metadata": {},
   "outputs": [
    {
     "name": "stdout",
     "output_type": "stream",
     "text": [
      "00159023\n",
      " \n",
      "분기보고서 (2020.09)\n",
      "20201116000869\n",
      "7548156\n",
      " \n",
      "['기본정보', '연결 재무상태표', '연결 손익계산서', '연결 포괄손익계산서', '연결 자본변동표', '연결 현금흐름표', '재무상태표', '손익계산서', '포괄손익계산서', '자본변동표', '현금흐름표']\n",
      " \n",
      "                               Unnamed: 0 Unnamed: 1 Unnamed: 2 Unnamed: 3  \\\n",
      "0                                연결 손익계산서        NaN        NaN        NaN   \n",
      "1   제 35 기 반기 2018.01.01 부터 2018.06.30 까지        NaN        NaN        NaN   \n",
      "2   제 34 기 반기 2017.01.01 부터 2017.06.30 까지        NaN        NaN        NaN   \n",
      "3                              (단위 : 백만원)        NaN        NaN        NaN   \n",
      "4                                          제 35 기 반기        NaN  제 34 기 반기   \n",
      "5                                     NaN        3개월         누적        3개월   \n",
      "6                                    영업수익    4154324    8335861    4345593   \n",
      "7                                     매출액    4154324    8335861    4345593   \n",
      "8                                    영업비용    3807430    7663491    3922327   \n",
      "9                                   종업원급여     535556    1085527     465087   \n",
      "10                                  지급수수료    1216856    2478955    1367292   \n",
      "11                                  감가상각비     767722    1553701     766167   \n",
      "12                                망접속정산비용     218829     433789     213024   \n",
      "13                            전용회선료및전파사용료      76484     157145      83383   \n",
      "14                                  광고선전비     110475     210592     123448   \n",
      "15                                  지급임차료     131144     262757     132414   \n",
      "16                              상품및기타구입비용     398961     809820     445407   \n",
      "17                                 기타영업비용     351403     671205     326105   \n",
      "18                               영업이익(손실)     346894     672370     423266   \n",
      "19                                   금융수익      34563      84360      27254   \n",
      "20                                   금융비용      93172     178051     139963   \n",
      "21                        종속기업및관계기업투자관련이익     915597    1542240     498289   \n",
      "22                                기타영업외수익       5425      22345       7167   \n",
      "23                                기타영업외비용      46265      73232      67587   \n",
      "24                            법인세비용차감전순이익    1163042    2070032     748426   \n",
      "25                                  법인세비용     248741     462359     127915   \n",
      "26                              당기순이익(손실)     914301    1607673     620511   \n",
      "27                              당기순이익의 귀속                                    \n",
      "28                 지배기업의 소유주에게 귀속되는 당기순이익     916652    1611611     624889   \n",
      "29                      비지배지분에 귀속되는 당기순이익      -2351      -3938      -4378   \n",
      "30                                   주당이익                                    \n",
      "31                        기본주당이익 (단위 : 원)      12863      22705       8731   \n",
      "32                        희석주당이익 (단위 : 원)      12863      22705       8731   \n",
      "\n",
      "   Unnamed: 4  \n",
      "0         NaN  \n",
      "1         NaN  \n",
      "2         NaN  \n",
      "3         NaN  \n",
      "4         NaN  \n",
      "5          누적  \n",
      "6     8579958  \n",
      "7     8579958  \n",
      "8     7746190  \n",
      "9      927928  \n",
      "10    2730628  \n",
      "11    1527883  \n",
      "12     434104  \n",
      "13     171199  \n",
      "14     208876  \n",
      "15     265485  \n",
      "16     847569  \n",
      "17     632518  \n",
      "18     833768  \n",
      "19      75130  \n",
      "20     226612  \n",
      "21     878250  \n",
      "22      15436  \n",
      "23     103326  \n",
      "24    1472646  \n",
      "25     268654  \n",
      "26    1203992  \n",
      "27             \n",
      "28    1214023  \n",
      "29     -10031  \n",
      "30             \n",
      "31      17074  \n",
      "32      17074  \n",
      " \n",
      "['2020.09', '2020.06', '2020.03', '2019.12', '2019.09', '2019.06', '2019.03', '2018.12', '2018.09', '2018.06']\n",
      "[4730842, 4602813, 4450396, 17743702, 4561213, 4437029, 4334906, 16873960, 4186392, 4154324]\n",
      " \n"
     ]
    },
    {
     "data": {
      "image/png": "[encoded data removed]",
      "text/plain": [
       "<Figure size 432x288 with 1 Axes>"
      ]
     },
     "metadata": {
      "needs_background": "light"
     },
     "output_type": "display_data"
    },
    {
     "data": {
      "text/plain": [
       "{'2018.06': 4154324,\n",
       " '2018.09': 4186392,\n",
       " '2018.12': 16873960,\n",
       " '2019.03': 4334906,\n",
       " '2019.06': 4437029,\n",
       " '2019.09': 4561213,\n",
       " '2019.12': 17743702,\n",
       " '2020.03': 4450396,\n",
       " '2020.06': 4602813,\n",
       " '2020.09': 4730842}"
      ]
     },
     "execution_count": 55,
     "metadata": {},
     "output_type": "execute_result"
    }
   ],
   "source": [
    "dart_data_10q('SK텔레콤', '연결 손익계산서', '매출액')"
   ]
  },
  {
   "cell_type": "code",
   "execution_count": null,
   "metadata": {},
   "outputs": [],
   "source": []
  }
 ],
 "metadata": {
  "kernelspec": {
   "display_name": "Python 3",
   "language": "python",
   "name": "python3"
  },
  "language_info": {
   "codemirror_mode": {
    "name": "ipython",
    "version": 3
   },
   "file_extension": ".py",
   "mimetype": "text/x-python",
   "name": "python",
   "nbconvert_exporter": "python",
   "pygments_lexer": "ipython3",
   "version": "3.7.6"
  }
 },
 "nbformat": 4,
 "nbformat_minor": 4
}
